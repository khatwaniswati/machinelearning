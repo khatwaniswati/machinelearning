{
 "cells": [
  {
   "cell_type": "code",
   "execution_count": 1,
   "id": "0253d331",
   "metadata": {},
   "outputs": [],
   "source": [
    "import datetime as dt\n",
    "import pandas as pd\n",
    "import matplotlib.pyplot as plt\n",
    "import numpy as np\n",
    "import seaborn as sns"
   ]
  },
  {
   "cell_type": "code",
   "execution_count": 2,
   "id": "cd1b3fe3",
   "metadata": {},
   "outputs": [
    {
     "name": "stderr",
     "output_type": "stream",
     "text": [
      "C:\\Users\\SANTHO~1\\AppData\\Local\\Temp/ipykernel_14224/661182059.py:1: DtypeWarning: Columns (0,19) have mixed types. Specify dtype option on import or set low_memory=False.\n",
      "  Totall = pd.read_csv(\"accident_vehicals.csv\")\n"
     ]
    }
   ],
   "source": [
    "Totall = pd.read_csv(\"accident_vehicals.csv\")\n",
    "#vehicle = pd.read_csv(\"Vehicle_Information.csv\")"
   ]
  },
  {
   "cell_type": "code",
   "execution_count": 3,
   "id": "d02d31f8",
   "metadata": {},
   "outputs": [
    {
     "data": {
      "text/plain": [
       "Accident_Index                                      0\n",
       "1st_Road_Class                                      0\n",
       "1st_Road_Number                                     0\n",
       "2nd_Road_Class                                 275709\n",
       "2nd_Road_Number                                  3409\n",
       "Accident_Severity                                   0\n",
       "Carriageway_Hazards                                 0\n",
       "Date                                                0\n",
       "Day_of_Week                                         0\n",
       "Did_Police_Officer_Attend_Scene_of_Accident        16\n",
       "Junction_Control                                    0\n",
       "Junction_Detail                                     0\n",
       "Latitude                                           65\n",
       "Light_Conditions                                    0\n",
       "Local_Authority_(District)                          0\n",
       "Local_Authority_(Highway)                           0\n",
       "Location_Easting_OSGR                              65\n",
       "Location_Northing_OSGR                             65\n",
       "Longitude                                          65\n",
       "LSOA_of_Accident_Location                       42103\n",
       "Number_of_Casualties                                0\n",
       "Number_of_Vehicles                                  0\n",
       "Pedestrian_Crossing-Human_Control                 638\n",
       "Pedestrian_Crossing-Physical_Facilities          1350\n",
       "Police_Force                                        0\n",
       "Road_Surface_Conditions                             0\n",
       "Road_Type                                           0\n",
       "Special_Conditions_at_Site                          0\n",
       "Speed_limit                                        65\n",
       "Time                                               37\n",
       "Urban_or_Rural_Area                                 0\n",
       "Weather_Conditions                                  0\n",
       "Year_x                                              0\n",
       "InScotland                                         12\n",
       "Age_Band_of_Driver                                  0\n",
       "Age_of_Vehicle                                 169290\n",
       "Driver_Home_Area_Type                               0\n",
       "Driver_IMD_Decile                              367265\n",
       "Engine_Capacity_.CC.                           142068\n",
       "Hit_Object_in_Carriageway                           0\n",
       "Hit_Object_off_Carriageway                          0\n",
       "Journey_Purpose_of_Driver                           0\n",
       "Junction_Location                                   0\n",
       "make                                           110845\n",
       "model                                          135891\n",
       "Propulsion_Code                                140462\n",
       "Sex_of_Driver                                       0\n",
       "Skidding_and_Overturning                            0\n",
       "Towing_and_Articulation                             0\n",
       "Vehicle_Leaving_Carriageway                         0\n",
       "Vehicle_Location.Restricted_Lane                 1103\n",
       "Vehicle_Manoeuvre                                   0\n",
       "Vehicle_Reference                                   0\n",
       "Vehicle_Type                                        0\n",
       "Was_Vehicle_Left_Hand_Drive                         0\n",
       "X1st_Point_of_Impact                                0\n",
       "Year_y                                              0\n",
       "dtype: int64"
      ]
     },
     "execution_count": 3,
     "metadata": {},
     "output_type": "execute_result"
    }
   ],
   "source": [
    "Totall.isnull().sum()"
   ]
  },
  {
   "cell_type": "code",
   "execution_count": 4,
   "id": "ffa8c658",
   "metadata": {},
   "outputs": [
    {
     "data": {
      "text/html": [
       "<div>\n",
       "<style scoped>\n",
       "    .dataframe tbody tr th:only-of-type {\n",
       "        vertical-align: middle;\n",
       "    }\n",
       "\n",
       "    .dataframe tbody tr th {\n",
       "        vertical-align: top;\n",
       "    }\n",
       "\n",
       "    .dataframe thead th {\n",
       "        text-align: right;\n",
       "    }\n",
       "</style>\n",
       "<table border=\"1\" class=\"dataframe\">\n",
       "  <thead>\n",
       "    <tr style=\"text-align: right;\">\n",
       "      <th></th>\n",
       "      <th>Accident_Index</th>\n",
       "      <th>1st_Road_Class</th>\n",
       "      <th>1st_Road_Number</th>\n",
       "      <th>2nd_Road_Class</th>\n",
       "      <th>2nd_Road_Number</th>\n",
       "      <th>Accident_Severity</th>\n",
       "      <th>Carriageway_Hazards</th>\n",
       "      <th>Date</th>\n",
       "      <th>Day_of_Week</th>\n",
       "      <th>Did_Police_Officer_Attend_Scene_of_Accident</th>\n",
       "      <th>...</th>\n",
       "      <th>Skidding_and_Overturning</th>\n",
       "      <th>Towing_and_Articulation</th>\n",
       "      <th>Vehicle_Leaving_Carriageway</th>\n",
       "      <th>Vehicle_Location.Restricted_Lane</th>\n",
       "      <th>Vehicle_Manoeuvre</th>\n",
       "      <th>Vehicle_Reference</th>\n",
       "      <th>Vehicle_Type</th>\n",
       "      <th>Was_Vehicle_Left_Hand_Drive</th>\n",
       "      <th>X1st_Point_of_Impact</th>\n",
       "      <th>Year_y</th>\n",
       "    </tr>\n",
       "  </thead>\n",
       "  <tbody>\n",
       "    <tr>\n",
       "      <th>0</th>\n",
       "      <td>201401BS70001</td>\n",
       "      <td>A</td>\n",
       "      <td>315.0</td>\n",
       "      <td>NaN</td>\n",
       "      <td>0.0</td>\n",
       "      <td>Slight</td>\n",
       "      <td>None</td>\n",
       "      <td>2014-01-09</td>\n",
       "      <td>Thursday</td>\n",
       "      <td>2.0</td>\n",
       "      <td>...</td>\n",
       "      <td>None</td>\n",
       "      <td>No tow/articulation</td>\n",
       "      <td>Did not leave carriageway</td>\n",
       "      <td>0.0</td>\n",
       "      <td>Going ahead other</td>\n",
       "      <td>1</td>\n",
       "      <td>Taxi/Private hire car</td>\n",
       "      <td>No</td>\n",
       "      <td>Nearside</td>\n",
       "      <td>2014</td>\n",
       "    </tr>\n",
       "    <tr>\n",
       "      <th>1</th>\n",
       "      <td>201401BS70001</td>\n",
       "      <td>A</td>\n",
       "      <td>315.0</td>\n",
       "      <td>NaN</td>\n",
       "      <td>0.0</td>\n",
       "      <td>Slight</td>\n",
       "      <td>None</td>\n",
       "      <td>2014-01-09</td>\n",
       "      <td>Thursday</td>\n",
       "      <td>2.0</td>\n",
       "      <td>...</td>\n",
       "      <td>None</td>\n",
       "      <td>No tow/articulation</td>\n",
       "      <td>Did not leave carriageway</td>\n",
       "      <td>0.0</td>\n",
       "      <td>Overtaking - nearside</td>\n",
       "      <td>2</td>\n",
       "      <td>Van / Goods 3.5 tonnes mgw or under</td>\n",
       "      <td>No</td>\n",
       "      <td>Front</td>\n",
       "      <td>2014</td>\n",
       "    </tr>\n",
       "    <tr>\n",
       "      <th>2</th>\n",
       "      <td>201401BS70002</td>\n",
       "      <td>A</td>\n",
       "      <td>3218.0</td>\n",
       "      <td>A</td>\n",
       "      <td>3220.0</td>\n",
       "      <td>Slight</td>\n",
       "      <td>None</td>\n",
       "      <td>2014-01-20</td>\n",
       "      <td>Monday</td>\n",
       "      <td>2.0</td>\n",
       "      <td>...</td>\n",
       "      <td>None</td>\n",
       "      <td>No tow/articulation</td>\n",
       "      <td>Did not leave carriageway</td>\n",
       "      <td>0.0</td>\n",
       "      <td>Parked</td>\n",
       "      <td>1</td>\n",
       "      <td>Car</td>\n",
       "      <td>No</td>\n",
       "      <td>Offside</td>\n",
       "      <td>2014</td>\n",
       "    </tr>\n",
       "    <tr>\n",
       "      <th>3</th>\n",
       "      <td>201401BS70003</td>\n",
       "      <td>A</td>\n",
       "      <td>308.0</td>\n",
       "      <td>Unclassified</td>\n",
       "      <td>0.0</td>\n",
       "      <td>Slight</td>\n",
       "      <td>None</td>\n",
       "      <td>2014-01-21</td>\n",
       "      <td>Tuesday</td>\n",
       "      <td>1.0</td>\n",
       "      <td>...</td>\n",
       "      <td>None</td>\n",
       "      <td>No tow/articulation</td>\n",
       "      <td>Did not leave carriageway</td>\n",
       "      <td>0.0</td>\n",
       "      <td>Turning right</td>\n",
       "      <td>1</td>\n",
       "      <td>Car</td>\n",
       "      <td>No</td>\n",
       "      <td>Offside</td>\n",
       "      <td>2014</td>\n",
       "    </tr>\n",
       "    <tr>\n",
       "      <th>4</th>\n",
       "      <td>201401BS70003</td>\n",
       "      <td>A</td>\n",
       "      <td>308.0</td>\n",
       "      <td>Unclassified</td>\n",
       "      <td>0.0</td>\n",
       "      <td>Slight</td>\n",
       "      <td>None</td>\n",
       "      <td>2014-01-21</td>\n",
       "      <td>Tuesday</td>\n",
       "      <td>1.0</td>\n",
       "      <td>...</td>\n",
       "      <td>Skidded</td>\n",
       "      <td>No tow/articulation</td>\n",
       "      <td>Did not leave carriageway</td>\n",
       "      <td>0.0</td>\n",
       "      <td>Overtaking moving vehicle - offside</td>\n",
       "      <td>2</td>\n",
       "      <td>Motorcycle 125cc and under</td>\n",
       "      <td>No</td>\n",
       "      <td>Front</td>\n",
       "      <td>2014</td>\n",
       "    </tr>\n",
       "    <tr>\n",
       "      <th>...</th>\n",
       "      <td>...</td>\n",
       "      <td>...</td>\n",
       "      <td>...</td>\n",
       "      <td>...</td>\n",
       "      <td>...</td>\n",
       "      <td>...</td>\n",
       "      <td>...</td>\n",
       "      <td>...</td>\n",
       "      <td>...</td>\n",
       "      <td>...</td>\n",
       "      <td>...</td>\n",
       "      <td>...</td>\n",
       "      <td>...</td>\n",
       "      <td>...</td>\n",
       "      <td>...</td>\n",
       "      <td>...</td>\n",
       "      <td>...</td>\n",
       "      <td>...</td>\n",
       "      <td>...</td>\n",
       "      <td>...</td>\n",
       "      <td>...</td>\n",
       "    </tr>\n",
       "    <tr>\n",
       "      <th>692693</th>\n",
       "      <td>2016984131116</td>\n",
       "      <td>B</td>\n",
       "      <td>7020.0</td>\n",
       "      <td>C</td>\n",
       "      <td>49.0</td>\n",
       "      <td>Slight</td>\n",
       "      <td>None</td>\n",
       "      <td>2016-11-01</td>\n",
       "      <td>Tuesday</td>\n",
       "      <td>1.0</td>\n",
       "      <td>...</td>\n",
       "      <td>None</td>\n",
       "      <td>No tow/articulation</td>\n",
       "      <td>Did not leave carriageway</td>\n",
       "      <td>0.0</td>\n",
       "      <td>Going ahead other</td>\n",
       "      <td>1</td>\n",
       "      <td>Car</td>\n",
       "      <td>No</td>\n",
       "      <td>Front</td>\n",
       "      <td>2016</td>\n",
       "    </tr>\n",
       "    <tr>\n",
       "      <th>692694</th>\n",
       "      <td>2016984131116</td>\n",
       "      <td>B</td>\n",
       "      <td>7020.0</td>\n",
       "      <td>C</td>\n",
       "      <td>49.0</td>\n",
       "      <td>Slight</td>\n",
       "      <td>None</td>\n",
       "      <td>2016-11-01</td>\n",
       "      <td>Tuesday</td>\n",
       "      <td>1.0</td>\n",
       "      <td>...</td>\n",
       "      <td>None</td>\n",
       "      <td>No tow/articulation</td>\n",
       "      <td>Offside</td>\n",
       "      <td>0.0</td>\n",
       "      <td>Going ahead other</td>\n",
       "      <td>2</td>\n",
       "      <td>Car</td>\n",
       "      <td>No</td>\n",
       "      <td>Front</td>\n",
       "      <td>2016</td>\n",
       "    </tr>\n",
       "    <tr>\n",
       "      <th>692695</th>\n",
       "      <td>2016984131216</td>\n",
       "      <td>A(M)</td>\n",
       "      <td>74.0</td>\n",
       "      <td>NaN</td>\n",
       "      <td>0.0</td>\n",
       "      <td>Slight</td>\n",
       "      <td>None</td>\n",
       "      <td>2016-10-27</td>\n",
       "      <td>Thursday</td>\n",
       "      <td>1.0</td>\n",
       "      <td>...</td>\n",
       "      <td>None</td>\n",
       "      <td>No tow/articulation</td>\n",
       "      <td>Offside on to central reservation</td>\n",
       "      <td>0.0</td>\n",
       "      <td>Going ahead other</td>\n",
       "      <td>1</td>\n",
       "      <td>Goods 7.5 tonnes mgw and over</td>\n",
       "      <td>No</td>\n",
       "      <td>Offside</td>\n",
       "      <td>2016</td>\n",
       "    </tr>\n",
       "    <tr>\n",
       "      <th>692696</th>\n",
       "      <td>2016984131316</td>\n",
       "      <td>B</td>\n",
       "      <td>724.0</td>\n",
       "      <td>NaN</td>\n",
       "      <td>0.0</td>\n",
       "      <td>Slight</td>\n",
       "      <td>None</td>\n",
       "      <td>2016-10-29</td>\n",
       "      <td>Saturday</td>\n",
       "      <td>1.0</td>\n",
       "      <td>...</td>\n",
       "      <td>Skidded</td>\n",
       "      <td>No tow/articulation</td>\n",
       "      <td>Offside</td>\n",
       "      <td>0.0</td>\n",
       "      <td>Going ahead other</td>\n",
       "      <td>1</td>\n",
       "      <td>Car</td>\n",
       "      <td>No</td>\n",
       "      <td>Front</td>\n",
       "      <td>2016</td>\n",
       "    </tr>\n",
       "    <tr>\n",
       "      <th>692697</th>\n",
       "      <td>2016984133416</td>\n",
       "      <td>A(M)</td>\n",
       "      <td>74.0</td>\n",
       "      <td>NaN</td>\n",
       "      <td>0.0</td>\n",
       "      <td>Slight</td>\n",
       "      <td>None</td>\n",
       "      <td>2016-12-25</td>\n",
       "      <td>Sunday</td>\n",
       "      <td>1.0</td>\n",
       "      <td>...</td>\n",
       "      <td>Skidded and overturned</td>\n",
       "      <td>No tow/articulation</td>\n",
       "      <td>Nearside</td>\n",
       "      <td>0.0</td>\n",
       "      <td>Going ahead other</td>\n",
       "      <td>1</td>\n",
       "      <td>Car</td>\n",
       "      <td>No</td>\n",
       "      <td>Nearside</td>\n",
       "      <td>2016</td>\n",
       "    </tr>\n",
       "  </tbody>\n",
       "</table>\n",
       "<p>692698 rows × 57 columns</p>\n",
       "</div>"
      ],
      "text/plain": [
       "       Accident_Index 1st_Road_Class  1st_Road_Number 2nd_Road_Class  \\\n",
       "0       201401BS70001              A            315.0            NaN   \n",
       "1       201401BS70001              A            315.0            NaN   \n",
       "2       201401BS70002              A           3218.0              A   \n",
       "3       201401BS70003              A            308.0   Unclassified   \n",
       "4       201401BS70003              A            308.0   Unclassified   \n",
       "...               ...            ...              ...            ...   \n",
       "692693  2016984131116              B           7020.0              C   \n",
       "692694  2016984131116              B           7020.0              C   \n",
       "692695  2016984131216           A(M)             74.0            NaN   \n",
       "692696  2016984131316              B            724.0            NaN   \n",
       "692697  2016984133416           A(M)             74.0            NaN   \n",
       "\n",
       "        2nd_Road_Number Accident_Severity Carriageway_Hazards        Date  \\\n",
       "0                   0.0            Slight                None  2014-01-09   \n",
       "1                   0.0            Slight                None  2014-01-09   \n",
       "2                3220.0            Slight                None  2014-01-20   \n",
       "3                   0.0            Slight                None  2014-01-21   \n",
       "4                   0.0            Slight                None  2014-01-21   \n",
       "...                 ...               ...                 ...         ...   \n",
       "692693             49.0            Slight                None  2016-11-01   \n",
       "692694             49.0            Slight                None  2016-11-01   \n",
       "692695              0.0            Slight                None  2016-10-27   \n",
       "692696              0.0            Slight                None  2016-10-29   \n",
       "692697              0.0            Slight                None  2016-12-25   \n",
       "\n",
       "       Day_of_Week  Did_Police_Officer_Attend_Scene_of_Accident  ...  \\\n",
       "0         Thursday                                          2.0  ...   \n",
       "1         Thursday                                          2.0  ...   \n",
       "2           Monday                                          2.0  ...   \n",
       "3          Tuesday                                          1.0  ...   \n",
       "4          Tuesday                                          1.0  ...   \n",
       "...            ...                                          ...  ...   \n",
       "692693     Tuesday                                          1.0  ...   \n",
       "692694     Tuesday                                          1.0  ...   \n",
       "692695    Thursday                                          1.0  ...   \n",
       "692696    Saturday                                          1.0  ...   \n",
       "692697      Sunday                                          1.0  ...   \n",
       "\n",
       "       Skidding_and_Overturning Towing_and_Articulation  \\\n",
       "0                          None     No tow/articulation   \n",
       "1                          None     No tow/articulation   \n",
       "2                          None     No tow/articulation   \n",
       "3                          None     No tow/articulation   \n",
       "4                       Skidded     No tow/articulation   \n",
       "...                         ...                     ...   \n",
       "692693                     None     No tow/articulation   \n",
       "692694                     None     No tow/articulation   \n",
       "692695                     None     No tow/articulation   \n",
       "692696                  Skidded     No tow/articulation   \n",
       "692697   Skidded and overturned     No tow/articulation   \n",
       "\n",
       "              Vehicle_Leaving_Carriageway Vehicle_Location.Restricted_Lane  \\\n",
       "0               Did not leave carriageway                              0.0   \n",
       "1               Did not leave carriageway                              0.0   \n",
       "2               Did not leave carriageway                              0.0   \n",
       "3               Did not leave carriageway                              0.0   \n",
       "4               Did not leave carriageway                              0.0   \n",
       "...                                   ...                              ...   \n",
       "692693          Did not leave carriageway                              0.0   \n",
       "692694                            Offside                              0.0   \n",
       "692695  Offside on to central reservation                              0.0   \n",
       "692696                            Offside                              0.0   \n",
       "692697                           Nearside                              0.0   \n",
       "\n",
       "                          Vehicle_Manoeuvre Vehicle_Reference  \\\n",
       "0                         Going ahead other                 1   \n",
       "1                     Overtaking - nearside                 2   \n",
       "2                                    Parked                 1   \n",
       "3                             Turning right                 1   \n",
       "4       Overtaking moving vehicle - offside                 2   \n",
       "...                                     ...               ...   \n",
       "692693                    Going ahead other                 1   \n",
       "692694                    Going ahead other                 2   \n",
       "692695                    Going ahead other                 1   \n",
       "692696                    Going ahead other                 1   \n",
       "692697                    Going ahead other                 1   \n",
       "\n",
       "                               Vehicle_Type  Was_Vehicle_Left_Hand_Drive  \\\n",
       "0                     Taxi/Private hire car                           No   \n",
       "1       Van / Goods 3.5 tonnes mgw or under                           No   \n",
       "2                                       Car                           No   \n",
       "3                                       Car                           No   \n",
       "4                Motorcycle 125cc and under                           No   \n",
       "...                                     ...                          ...   \n",
       "692693                                  Car                           No   \n",
       "692694                                  Car                           No   \n",
       "692695        Goods 7.5 tonnes mgw and over                           No   \n",
       "692696                                  Car                           No   \n",
       "692697                                  Car                           No   \n",
       "\n",
       "        X1st_Point_of_Impact Year_y  \n",
       "0                   Nearside   2014  \n",
       "1                      Front   2014  \n",
       "2                    Offside   2014  \n",
       "3                    Offside   2014  \n",
       "4                      Front   2014  \n",
       "...                      ...    ...  \n",
       "692693                 Front   2016  \n",
       "692694                 Front   2016  \n",
       "692695               Offside   2016  \n",
       "692696                 Front   2016  \n",
       "692697              Nearside   2016  \n",
       "\n",
       "[692698 rows x 57 columns]"
      ]
     },
     "execution_count": 4,
     "metadata": {},
     "output_type": "execute_result"
    }
   ],
   "source": [
    "Totall"
   ]
  },
  {
   "cell_type": "code",
   "execution_count": 5,
   "id": "2c89fc4d",
   "metadata": {},
   "outputs": [
    {
     "data": {
      "text/plain": [
       "array([2014, 2015, 2016], dtype=int64)"
      ]
     },
     "execution_count": 5,
     "metadata": {},
     "output_type": "execute_result"
    }
   ],
   "source": [
    "Totall['Year_y'].unique()"
   ]
  },
  {
   "cell_type": "code",
   "execution_count": 6,
   "id": "5fbb8a61",
   "metadata": {},
   "outputs": [],
   "source": [
    "Totall.drop(columns = [\"Accident_Index\",\"1st_Road_Class\",\"1st_Road_Number\",\"2nd_Road_Class\",\"2nd_Road_Number\"], inplace =True)"
   ]
  },
  {
   "cell_type": "code",
   "execution_count": 7,
   "id": "db976452",
   "metadata": {},
   "outputs": [
    {
     "data": {
      "text/plain": [
       "Accident_Severity                                   0\n",
       "Carriageway_Hazards                                 0\n",
       "Date                                                0\n",
       "Day_of_Week                                         0\n",
       "Did_Police_Officer_Attend_Scene_of_Accident        16\n",
       "Junction_Control                                    0\n",
       "Junction_Detail                                     0\n",
       "Latitude                                           65\n",
       "Light_Conditions                                    0\n",
       "Local_Authority_(District)                          0\n",
       "Local_Authority_(Highway)                           0\n",
       "Location_Easting_OSGR                              65\n",
       "Location_Northing_OSGR                             65\n",
       "Longitude                                          65\n",
       "LSOA_of_Accident_Location                       42103\n",
       "Number_of_Casualties                                0\n",
       "Number_of_Vehicles                                  0\n",
       "Pedestrian_Crossing-Human_Control                 638\n",
       "Pedestrian_Crossing-Physical_Facilities          1350\n",
       "Police_Force                                        0\n",
       "Road_Surface_Conditions                             0\n",
       "Road_Type                                           0\n",
       "Special_Conditions_at_Site                          0\n",
       "Speed_limit                                        65\n",
       "Time                                               37\n",
       "Urban_or_Rural_Area                                 0\n",
       "Weather_Conditions                                  0\n",
       "Year_x                                              0\n",
       "InScotland                                         12\n",
       "Age_Band_of_Driver                                  0\n",
       "Age_of_Vehicle                                 169290\n",
       "Driver_Home_Area_Type                               0\n",
       "Driver_IMD_Decile                              367265\n",
       "Engine_Capacity_.CC.                           142068\n",
       "Hit_Object_in_Carriageway                           0\n",
       "Hit_Object_off_Carriageway                          0\n",
       "Journey_Purpose_of_Driver                           0\n",
       "Junction_Location                                   0\n",
       "make                                           110845\n",
       "model                                          135891\n",
       "Propulsion_Code                                140462\n",
       "Sex_of_Driver                                       0\n",
       "Skidding_and_Overturning                            0\n",
       "Towing_and_Articulation                             0\n",
       "Vehicle_Leaving_Carriageway                         0\n",
       "Vehicle_Location.Restricted_Lane                 1103\n",
       "Vehicle_Manoeuvre                                   0\n",
       "Vehicle_Reference                                   0\n",
       "Vehicle_Type                                        0\n",
       "Was_Vehicle_Left_Hand_Drive                         0\n",
       "X1st_Point_of_Impact                                0\n",
       "Year_y                                              0\n",
       "dtype: int64"
      ]
     },
     "execution_count": 7,
     "metadata": {},
     "output_type": "execute_result"
    }
   ],
   "source": [
    "Totall.isnull().sum()"
   ]
  },
  {
   "cell_type": "code",
   "execution_count": 8,
   "id": "2447ade2",
   "metadata": {},
   "outputs": [],
   "source": [
    "Totall.drop(columns = [\"LSOA_of_Accident_Location\", \"Driver_IMD_Decile\",\"Age_of_Vehicle\"], inplace =True)"
   ]
  },
  {
   "cell_type": "code",
   "execution_count": 9,
   "id": "ee70e07f",
   "metadata": {},
   "outputs": [],
   "source": [
    "Totall.drop(columns = [\"Engine_Capacity_.CC.\",\"make\",\"model\",\"Propulsion_Code\"], inplace =True)"
   ]
  },
  {
   "cell_type": "code",
   "execution_count": 10,
   "id": "d515e104",
   "metadata": {},
   "outputs": [],
   "source": [
    "road = Totall.dropna()"
   ]
  },
  {
   "cell_type": "code",
   "execution_count": 11,
   "id": "5c296a37",
   "metadata": {},
   "outputs": [
    {
     "data": {
      "text/html": [
       "<div>\n",
       "<style scoped>\n",
       "    .dataframe tbody tr th:only-of-type {\n",
       "        vertical-align: middle;\n",
       "    }\n",
       "\n",
       "    .dataframe tbody tr th {\n",
       "        vertical-align: top;\n",
       "    }\n",
       "\n",
       "    .dataframe thead th {\n",
       "        text-align: right;\n",
       "    }\n",
       "</style>\n",
       "<table border=\"1\" class=\"dataframe\">\n",
       "  <thead>\n",
       "    <tr style=\"text-align: right;\">\n",
       "      <th></th>\n",
       "      <th>Accident_Severity</th>\n",
       "      <th>Carriageway_Hazards</th>\n",
       "      <th>Date</th>\n",
       "      <th>Day_of_Week</th>\n",
       "      <th>Did_Police_Officer_Attend_Scene_of_Accident</th>\n",
       "      <th>Junction_Control</th>\n",
       "      <th>Junction_Detail</th>\n",
       "      <th>Latitude</th>\n",
       "      <th>Light_Conditions</th>\n",
       "      <th>Local_Authority_(District)</th>\n",
       "      <th>...</th>\n",
       "      <th>Skidding_and_Overturning</th>\n",
       "      <th>Towing_and_Articulation</th>\n",
       "      <th>Vehicle_Leaving_Carriageway</th>\n",
       "      <th>Vehicle_Location.Restricted_Lane</th>\n",
       "      <th>Vehicle_Manoeuvre</th>\n",
       "      <th>Vehicle_Reference</th>\n",
       "      <th>Vehicle_Type</th>\n",
       "      <th>Was_Vehicle_Left_Hand_Drive</th>\n",
       "      <th>X1st_Point_of_Impact</th>\n",
       "      <th>Year_y</th>\n",
       "    </tr>\n",
       "  </thead>\n",
       "  <tbody>\n",
       "    <tr>\n",
       "      <th>0</th>\n",
       "      <td>Slight</td>\n",
       "      <td>None</td>\n",
       "      <td>2014-01-09</td>\n",
       "      <td>Thursday</td>\n",
       "      <td>2.0</td>\n",
       "      <td>Data missing or out of range</td>\n",
       "      <td>Not at junction or within 20 metres</td>\n",
       "      <td>51.496345</td>\n",
       "      <td>Daylight</td>\n",
       "      <td>Kensington and Chelsea</td>\n",
       "      <td>...</td>\n",
       "      <td>None</td>\n",
       "      <td>No tow/articulation</td>\n",
       "      <td>Did not leave carriageway</td>\n",
       "      <td>0.0</td>\n",
       "      <td>Going ahead other</td>\n",
       "      <td>1</td>\n",
       "      <td>Taxi/Private hire car</td>\n",
       "      <td>No</td>\n",
       "      <td>Nearside</td>\n",
       "      <td>2014</td>\n",
       "    </tr>\n",
       "    <tr>\n",
       "      <th>1</th>\n",
       "      <td>Slight</td>\n",
       "      <td>None</td>\n",
       "      <td>2014-01-09</td>\n",
       "      <td>Thursday</td>\n",
       "      <td>2.0</td>\n",
       "      <td>Data missing or out of range</td>\n",
       "      <td>Not at junction or within 20 metres</td>\n",
       "      <td>51.496345</td>\n",
       "      <td>Daylight</td>\n",
       "      <td>Kensington and Chelsea</td>\n",
       "      <td>...</td>\n",
       "      <td>None</td>\n",
       "      <td>No tow/articulation</td>\n",
       "      <td>Did not leave carriageway</td>\n",
       "      <td>0.0</td>\n",
       "      <td>Overtaking - nearside</td>\n",
       "      <td>2</td>\n",
       "      <td>Van / Goods 3.5 tonnes mgw or under</td>\n",
       "      <td>No</td>\n",
       "      <td>Front</td>\n",
       "      <td>2014</td>\n",
       "    </tr>\n",
       "    <tr>\n",
       "      <th>2</th>\n",
       "      <td>Slight</td>\n",
       "      <td>None</td>\n",
       "      <td>2014-01-20</td>\n",
       "      <td>Monday</td>\n",
       "      <td>2.0</td>\n",
       "      <td>Give way or uncontrolled</td>\n",
       "      <td>Slip road</td>\n",
       "      <td>51.489523</td>\n",
       "      <td>Darkness - lighting unknown</td>\n",
       "      <td>Kensington and Chelsea</td>\n",
       "      <td>...</td>\n",
       "      <td>None</td>\n",
       "      <td>No tow/articulation</td>\n",
       "      <td>Did not leave carriageway</td>\n",
       "      <td>0.0</td>\n",
       "      <td>Parked</td>\n",
       "      <td>1</td>\n",
       "      <td>Car</td>\n",
       "      <td>No</td>\n",
       "      <td>Offside</td>\n",
       "      <td>2014</td>\n",
       "    </tr>\n",
       "    <tr>\n",
       "      <th>3</th>\n",
       "      <td>Slight</td>\n",
       "      <td>None</td>\n",
       "      <td>2014-01-21</td>\n",
       "      <td>Tuesday</td>\n",
       "      <td>1.0</td>\n",
       "      <td>Give way or uncontrolled</td>\n",
       "      <td>T or staggered junction</td>\n",
       "      <td>51.490536</td>\n",
       "      <td>Daylight</td>\n",
       "      <td>Kensington and Chelsea</td>\n",
       "      <td>...</td>\n",
       "      <td>None</td>\n",
       "      <td>No tow/articulation</td>\n",
       "      <td>Did not leave carriageway</td>\n",
       "      <td>0.0</td>\n",
       "      <td>Turning right</td>\n",
       "      <td>1</td>\n",
       "      <td>Car</td>\n",
       "      <td>No</td>\n",
       "      <td>Offside</td>\n",
       "      <td>2014</td>\n",
       "    </tr>\n",
       "    <tr>\n",
       "      <th>4</th>\n",
       "      <td>Slight</td>\n",
       "      <td>None</td>\n",
       "      <td>2014-01-21</td>\n",
       "      <td>Tuesday</td>\n",
       "      <td>1.0</td>\n",
       "      <td>Give way or uncontrolled</td>\n",
       "      <td>T or staggered junction</td>\n",
       "      <td>51.490536</td>\n",
       "      <td>Daylight</td>\n",
       "      <td>Kensington and Chelsea</td>\n",
       "      <td>...</td>\n",
       "      <td>Skidded</td>\n",
       "      <td>No tow/articulation</td>\n",
       "      <td>Did not leave carriageway</td>\n",
       "      <td>0.0</td>\n",
       "      <td>Overtaking moving vehicle - offside</td>\n",
       "      <td>2</td>\n",
       "      <td>Motorcycle 125cc and under</td>\n",
       "      <td>No</td>\n",
       "      <td>Front</td>\n",
       "      <td>2014</td>\n",
       "    </tr>\n",
       "    <tr>\n",
       "      <th>...</th>\n",
       "      <td>...</td>\n",
       "      <td>...</td>\n",
       "      <td>...</td>\n",
       "      <td>...</td>\n",
       "      <td>...</td>\n",
       "      <td>...</td>\n",
       "      <td>...</td>\n",
       "      <td>...</td>\n",
       "      <td>...</td>\n",
       "      <td>...</td>\n",
       "      <td>...</td>\n",
       "      <td>...</td>\n",
       "      <td>...</td>\n",
       "      <td>...</td>\n",
       "      <td>...</td>\n",
       "      <td>...</td>\n",
       "      <td>...</td>\n",
       "      <td>...</td>\n",
       "      <td>...</td>\n",
       "      <td>...</td>\n",
       "      <td>...</td>\n",
       "    </tr>\n",
       "    <tr>\n",
       "      <th>692693</th>\n",
       "      <td>Slight</td>\n",
       "      <td>None</td>\n",
       "      <td>2016-11-01</td>\n",
       "      <td>Tuesday</td>\n",
       "      <td>1.0</td>\n",
       "      <td>Give way or uncontrolled</td>\n",
       "      <td>Crossroads</td>\n",
       "      <td>55.005033</td>\n",
       "      <td>Daylight</td>\n",
       "      <td>Dumfries and Galloway</td>\n",
       "      <td>...</td>\n",
       "      <td>None</td>\n",
       "      <td>No tow/articulation</td>\n",
       "      <td>Did not leave carriageway</td>\n",
       "      <td>0.0</td>\n",
       "      <td>Going ahead other</td>\n",
       "      <td>1</td>\n",
       "      <td>Car</td>\n",
       "      <td>No</td>\n",
       "      <td>Front</td>\n",
       "      <td>2016</td>\n",
       "    </tr>\n",
       "    <tr>\n",
       "      <th>692694</th>\n",
       "      <td>Slight</td>\n",
       "      <td>None</td>\n",
       "      <td>2016-11-01</td>\n",
       "      <td>Tuesday</td>\n",
       "      <td>1.0</td>\n",
       "      <td>Give way or uncontrolled</td>\n",
       "      <td>Crossroads</td>\n",
       "      <td>55.005033</td>\n",
       "      <td>Daylight</td>\n",
       "      <td>Dumfries and Galloway</td>\n",
       "      <td>...</td>\n",
       "      <td>None</td>\n",
       "      <td>No tow/articulation</td>\n",
       "      <td>Offside</td>\n",
       "      <td>0.0</td>\n",
       "      <td>Going ahead other</td>\n",
       "      <td>2</td>\n",
       "      <td>Car</td>\n",
       "      <td>No</td>\n",
       "      <td>Front</td>\n",
       "      <td>2016</td>\n",
       "    </tr>\n",
       "    <tr>\n",
       "      <th>692695</th>\n",
       "      <td>Slight</td>\n",
       "      <td>None</td>\n",
       "      <td>2016-10-27</td>\n",
       "      <td>Thursday</td>\n",
       "      <td>1.0</td>\n",
       "      <td>Data missing or out of range</td>\n",
       "      <td>Not at junction or within 20 metres</td>\n",
       "      <td>55.048803</td>\n",
       "      <td>Darkness - no lighting</td>\n",
       "      <td>Dumfries and Galloway</td>\n",
       "      <td>...</td>\n",
       "      <td>None</td>\n",
       "      <td>No tow/articulation</td>\n",
       "      <td>Offside on to central reservation</td>\n",
       "      <td>0.0</td>\n",
       "      <td>Going ahead other</td>\n",
       "      <td>1</td>\n",
       "      <td>Goods 7.5 tonnes mgw and over</td>\n",
       "      <td>No</td>\n",
       "      <td>Offside</td>\n",
       "      <td>2016</td>\n",
       "    </tr>\n",
       "    <tr>\n",
       "      <th>692696</th>\n",
       "      <td>Slight</td>\n",
       "      <td>None</td>\n",
       "      <td>2016-10-29</td>\n",
       "      <td>Saturday</td>\n",
       "      <td>1.0</td>\n",
       "      <td>Data missing or out of range</td>\n",
       "      <td>Not at junction or within 20 metres</td>\n",
       "      <td>54.989597</td>\n",
       "      <td>Darkness - lights lit</td>\n",
       "      <td>Dumfries and Galloway</td>\n",
       "      <td>...</td>\n",
       "      <td>Skidded</td>\n",
       "      <td>No tow/articulation</td>\n",
       "      <td>Offside</td>\n",
       "      <td>0.0</td>\n",
       "      <td>Going ahead other</td>\n",
       "      <td>1</td>\n",
       "      <td>Car</td>\n",
       "      <td>No</td>\n",
       "      <td>Front</td>\n",
       "      <td>2016</td>\n",
       "    </tr>\n",
       "    <tr>\n",
       "      <th>692697</th>\n",
       "      <td>Slight</td>\n",
       "      <td>None</td>\n",
       "      <td>2016-12-25</td>\n",
       "      <td>Sunday</td>\n",
       "      <td>1.0</td>\n",
       "      <td>Data missing or out of range</td>\n",
       "      <td>Not at junction or within 20 metres</td>\n",
       "      <td>55.310151</td>\n",
       "      <td>Daylight</td>\n",
       "      <td>Dumfries and Galloway</td>\n",
       "      <td>...</td>\n",
       "      <td>Skidded and overturned</td>\n",
       "      <td>No tow/articulation</td>\n",
       "      <td>Nearside</td>\n",
       "      <td>0.0</td>\n",
       "      <td>Going ahead other</td>\n",
       "      <td>1</td>\n",
       "      <td>Car</td>\n",
       "      <td>No</td>\n",
       "      <td>Nearside</td>\n",
       "      <td>2016</td>\n",
       "    </tr>\n",
       "  </tbody>\n",
       "</table>\n",
       "<p>690476 rows × 45 columns</p>\n",
       "</div>"
      ],
      "text/plain": [
       "       Accident_Severity Carriageway_Hazards        Date Day_of_Week  \\\n",
       "0                 Slight                None  2014-01-09    Thursday   \n",
       "1                 Slight                None  2014-01-09    Thursday   \n",
       "2                 Slight                None  2014-01-20      Monday   \n",
       "3                 Slight                None  2014-01-21     Tuesday   \n",
       "4                 Slight                None  2014-01-21     Tuesday   \n",
       "...                  ...                 ...         ...         ...   \n",
       "692693            Slight                None  2016-11-01     Tuesday   \n",
       "692694            Slight                None  2016-11-01     Tuesday   \n",
       "692695            Slight                None  2016-10-27    Thursday   \n",
       "692696            Slight                None  2016-10-29    Saturday   \n",
       "692697            Slight                None  2016-12-25      Sunday   \n",
       "\n",
       "        Did_Police_Officer_Attend_Scene_of_Accident  \\\n",
       "0                                               2.0   \n",
       "1                                               2.0   \n",
       "2                                               2.0   \n",
       "3                                               1.0   \n",
       "4                                               1.0   \n",
       "...                                             ...   \n",
       "692693                                          1.0   \n",
       "692694                                          1.0   \n",
       "692695                                          1.0   \n",
       "692696                                          1.0   \n",
       "692697                                          1.0   \n",
       "\n",
       "                    Junction_Control                      Junction_Detail  \\\n",
       "0       Data missing or out of range  Not at junction or within 20 metres   \n",
       "1       Data missing or out of range  Not at junction or within 20 metres   \n",
       "2           Give way or uncontrolled                            Slip road   \n",
       "3           Give way or uncontrolled              T or staggered junction   \n",
       "4           Give way or uncontrolled              T or staggered junction   \n",
       "...                              ...                                  ...   \n",
       "692693      Give way or uncontrolled                           Crossroads   \n",
       "692694      Give way or uncontrolled                           Crossroads   \n",
       "692695  Data missing or out of range  Not at junction or within 20 metres   \n",
       "692696  Data missing or out of range  Not at junction or within 20 metres   \n",
       "692697  Data missing or out of range  Not at junction or within 20 metres   \n",
       "\n",
       "         Latitude             Light_Conditions Local_Authority_(District)  \\\n",
       "0       51.496345                     Daylight     Kensington and Chelsea   \n",
       "1       51.496345                     Daylight     Kensington and Chelsea   \n",
       "2       51.489523  Darkness - lighting unknown     Kensington and Chelsea   \n",
       "3       51.490536                     Daylight     Kensington and Chelsea   \n",
       "4       51.490536                     Daylight     Kensington and Chelsea   \n",
       "...           ...                          ...                        ...   \n",
       "692693  55.005033                     Daylight      Dumfries and Galloway   \n",
       "692694  55.005033                     Daylight      Dumfries and Galloway   \n",
       "692695  55.048803       Darkness - no lighting      Dumfries and Galloway   \n",
       "692696  54.989597        Darkness - lights lit      Dumfries and Galloway   \n",
       "692697  55.310151                     Daylight      Dumfries and Galloway   \n",
       "\n",
       "        ... Skidding_and_Overturning  Towing_and_Articulation  \\\n",
       "0       ...                     None      No tow/articulation   \n",
       "1       ...                     None      No tow/articulation   \n",
       "2       ...                     None      No tow/articulation   \n",
       "3       ...                     None      No tow/articulation   \n",
       "4       ...                  Skidded      No tow/articulation   \n",
       "...     ...                      ...                      ...   \n",
       "692693  ...                     None      No tow/articulation   \n",
       "692694  ...                     None      No tow/articulation   \n",
       "692695  ...                     None      No tow/articulation   \n",
       "692696  ...                  Skidded      No tow/articulation   \n",
       "692697  ...   Skidded and overturned      No tow/articulation   \n",
       "\n",
       "              Vehicle_Leaving_Carriageway  Vehicle_Location.Restricted_Lane  \\\n",
       "0               Did not leave carriageway                               0.0   \n",
       "1               Did not leave carriageway                               0.0   \n",
       "2               Did not leave carriageway                               0.0   \n",
       "3               Did not leave carriageway                               0.0   \n",
       "4               Did not leave carriageway                               0.0   \n",
       "...                                   ...                               ...   \n",
       "692693          Did not leave carriageway                               0.0   \n",
       "692694                            Offside                               0.0   \n",
       "692695  Offside on to central reservation                               0.0   \n",
       "692696                            Offside                               0.0   \n",
       "692697                           Nearside                               0.0   \n",
       "\n",
       "                          Vehicle_Manoeuvre  Vehicle_Reference  \\\n",
       "0                         Going ahead other                  1   \n",
       "1                     Overtaking - nearside                  2   \n",
       "2                                    Parked                  1   \n",
       "3                             Turning right                  1   \n",
       "4       Overtaking moving vehicle - offside                  2   \n",
       "...                                     ...                ...   \n",
       "692693                    Going ahead other                  1   \n",
       "692694                    Going ahead other                  2   \n",
       "692695                    Going ahead other                  1   \n",
       "692696                    Going ahead other                  1   \n",
       "692697                    Going ahead other                  1   \n",
       "\n",
       "                               Vehicle_Type  Was_Vehicle_Left_Hand_Drive  \\\n",
       "0                     Taxi/Private hire car                           No   \n",
       "1       Van / Goods 3.5 tonnes mgw or under                           No   \n",
       "2                                       Car                           No   \n",
       "3                                       Car                           No   \n",
       "4                Motorcycle 125cc and under                           No   \n",
       "...                                     ...                          ...   \n",
       "692693                                  Car                           No   \n",
       "692694                                  Car                           No   \n",
       "692695        Goods 7.5 tonnes mgw and over                           No   \n",
       "692696                                  Car                           No   \n",
       "692697                                  Car                           No   \n",
       "\n",
       "       X1st_Point_of_Impact Year_y  \n",
       "0                  Nearside   2014  \n",
       "1                     Front   2014  \n",
       "2                   Offside   2014  \n",
       "3                   Offside   2014  \n",
       "4                     Front   2014  \n",
       "...                     ...    ...  \n",
       "692693                Front   2016  \n",
       "692694                Front   2016  \n",
       "692695              Offside   2016  \n",
       "692696                Front   2016  \n",
       "692697             Nearside   2016  \n",
       "\n",
       "[690476 rows x 45 columns]"
      ]
     },
     "execution_count": 11,
     "metadata": {},
     "output_type": "execute_result"
    }
   ],
   "source": [
    "road"
   ]
  },
  {
   "cell_type": "code",
   "execution_count": 12,
   "id": "6c584a42",
   "metadata": {},
   "outputs": [
    {
     "data": {
      "text/plain": [
       "Accident_Severity                              0\n",
       "Carriageway_Hazards                            0\n",
       "Date                                           0\n",
       "Day_of_Week                                    0\n",
       "Did_Police_Officer_Attend_Scene_of_Accident    0\n",
       "Junction_Control                               0\n",
       "Junction_Detail                                0\n",
       "Latitude                                       0\n",
       "Light_Conditions                               0\n",
       "Local_Authority_(District)                     0\n",
       "Local_Authority_(Highway)                      0\n",
       "Location_Easting_OSGR                          0\n",
       "Location_Northing_OSGR                         0\n",
       "Longitude                                      0\n",
       "Number_of_Casualties                           0\n",
       "Number_of_Vehicles                             0\n",
       "Pedestrian_Crossing-Human_Control              0\n",
       "Pedestrian_Crossing-Physical_Facilities        0\n",
       "Police_Force                                   0\n",
       "Road_Surface_Conditions                        0\n",
       "Road_Type                                      0\n",
       "Special_Conditions_at_Site                     0\n",
       "Speed_limit                                    0\n",
       "Time                                           0\n",
       "Urban_or_Rural_Area                            0\n",
       "Weather_Conditions                             0\n",
       "Year_x                                         0\n",
       "InScotland                                     0\n",
       "Age_Band_of_Driver                             0\n",
       "Driver_Home_Area_Type                          0\n",
       "Hit_Object_in_Carriageway                      0\n",
       "Hit_Object_off_Carriageway                     0\n",
       "Journey_Purpose_of_Driver                      0\n",
       "Junction_Location                              0\n",
       "Sex_of_Driver                                  0\n",
       "Skidding_and_Overturning                       0\n",
       "Towing_and_Articulation                        0\n",
       "Vehicle_Leaving_Carriageway                    0\n",
       "Vehicle_Location.Restricted_Lane               0\n",
       "Vehicle_Manoeuvre                              0\n",
       "Vehicle_Reference                              0\n",
       "Vehicle_Type                                   0\n",
       "Was_Vehicle_Left_Hand_Drive                    0\n",
       "X1st_Point_of_Impact                           0\n",
       "Year_y                                         0\n",
       "dtype: int64"
      ]
     },
     "execution_count": 12,
     "metadata": {},
     "output_type": "execute_result"
    }
   ],
   "source": [
    "road.isnull().sum()"
   ]
  },
  {
   "cell_type": "code",
   "execution_count": 13,
   "id": "bef372d1",
   "metadata": {},
   "outputs": [
    {
     "data": {
      "text/plain": [
       "array(['2014-01-09', '2014-01-20', '2014-01-21', ..., '2016-07-31',\n",
       "       '2016-08-01', '2016-01-16'], dtype=object)"
      ]
     },
     "execution_count": 13,
     "metadata": {},
     "output_type": "execute_result"
    }
   ],
   "source": [
    "road['Date'].unique()"
   ]
  },
  {
   "cell_type": "code",
   "execution_count": 14,
   "id": "7cd82c15",
   "metadata": {},
   "outputs": [
    {
     "data": {
      "text/html": [
       "<div>\n",
       "<style scoped>\n",
       "    .dataframe tbody tr th:only-of-type {\n",
       "        vertical-align: middle;\n",
       "    }\n",
       "\n",
       "    .dataframe tbody tr th {\n",
       "        vertical-align: top;\n",
       "    }\n",
       "\n",
       "    .dataframe thead th {\n",
       "        text-align: right;\n",
       "    }\n",
       "</style>\n",
       "<table border=\"1\" class=\"dataframe\">\n",
       "  <thead>\n",
       "    <tr style=\"text-align: right;\">\n",
       "      <th></th>\n",
       "      <th>Accident_Severity</th>\n",
       "      <th>Carriageway_Hazards</th>\n",
       "      <th>Date</th>\n",
       "      <th>Day_of_Week</th>\n",
       "      <th>Did_Police_Officer_Attend_Scene_of_Accident</th>\n",
       "      <th>Junction_Control</th>\n",
       "      <th>Junction_Detail</th>\n",
       "      <th>Latitude</th>\n",
       "      <th>Light_Conditions</th>\n",
       "      <th>Local_Authority_(District)</th>\n",
       "      <th>...</th>\n",
       "      <th>Skidding_and_Overturning</th>\n",
       "      <th>Towing_and_Articulation</th>\n",
       "      <th>Vehicle_Leaving_Carriageway</th>\n",
       "      <th>Vehicle_Location.Restricted_Lane</th>\n",
       "      <th>Vehicle_Manoeuvre</th>\n",
       "      <th>Vehicle_Reference</th>\n",
       "      <th>Vehicle_Type</th>\n",
       "      <th>Was_Vehicle_Left_Hand_Drive</th>\n",
       "      <th>X1st_Point_of_Impact</th>\n",
       "      <th>Year_y</th>\n",
       "    </tr>\n",
       "  </thead>\n",
       "  <tbody>\n",
       "    <tr>\n",
       "      <th>0</th>\n",
       "      <td>Slight</td>\n",
       "      <td>None</td>\n",
       "      <td>2014-01-09</td>\n",
       "      <td>Thursday</td>\n",
       "      <td>2.0</td>\n",
       "      <td>Data missing or out of range</td>\n",
       "      <td>Not at junction or within 20 metres</td>\n",
       "      <td>51.496345</td>\n",
       "      <td>Daylight</td>\n",
       "      <td>Kensington and Chelsea</td>\n",
       "      <td>...</td>\n",
       "      <td>None</td>\n",
       "      <td>No tow/articulation</td>\n",
       "      <td>Did not leave carriageway</td>\n",
       "      <td>0.0</td>\n",
       "      <td>Going ahead other</td>\n",
       "      <td>1</td>\n",
       "      <td>Taxi/Private hire car</td>\n",
       "      <td>No</td>\n",
       "      <td>Nearside</td>\n",
       "      <td>2014</td>\n",
       "    </tr>\n",
       "    <tr>\n",
       "      <th>1</th>\n",
       "      <td>Slight</td>\n",
       "      <td>None</td>\n",
       "      <td>2014-01-09</td>\n",
       "      <td>Thursday</td>\n",
       "      <td>2.0</td>\n",
       "      <td>Data missing or out of range</td>\n",
       "      <td>Not at junction or within 20 metres</td>\n",
       "      <td>51.496345</td>\n",
       "      <td>Daylight</td>\n",
       "      <td>Kensington and Chelsea</td>\n",
       "      <td>...</td>\n",
       "      <td>None</td>\n",
       "      <td>No tow/articulation</td>\n",
       "      <td>Did not leave carriageway</td>\n",
       "      <td>0.0</td>\n",
       "      <td>Overtaking - nearside</td>\n",
       "      <td>2</td>\n",
       "      <td>Van / Goods 3.5 tonnes mgw or under</td>\n",
       "      <td>No</td>\n",
       "      <td>Front</td>\n",
       "      <td>2014</td>\n",
       "    </tr>\n",
       "    <tr>\n",
       "      <th>2</th>\n",
       "      <td>Slight</td>\n",
       "      <td>None</td>\n",
       "      <td>2014-01-20</td>\n",
       "      <td>Monday</td>\n",
       "      <td>2.0</td>\n",
       "      <td>Give way or uncontrolled</td>\n",
       "      <td>Slip road</td>\n",
       "      <td>51.489523</td>\n",
       "      <td>Darkness - lighting unknown</td>\n",
       "      <td>Kensington and Chelsea</td>\n",
       "      <td>...</td>\n",
       "      <td>None</td>\n",
       "      <td>No tow/articulation</td>\n",
       "      <td>Did not leave carriageway</td>\n",
       "      <td>0.0</td>\n",
       "      <td>Parked</td>\n",
       "      <td>1</td>\n",
       "      <td>Car</td>\n",
       "      <td>No</td>\n",
       "      <td>Offside</td>\n",
       "      <td>2014</td>\n",
       "    </tr>\n",
       "    <tr>\n",
       "      <th>3</th>\n",
       "      <td>Slight</td>\n",
       "      <td>None</td>\n",
       "      <td>2014-01-21</td>\n",
       "      <td>Tuesday</td>\n",
       "      <td>1.0</td>\n",
       "      <td>Give way or uncontrolled</td>\n",
       "      <td>T or staggered junction</td>\n",
       "      <td>51.490536</td>\n",
       "      <td>Daylight</td>\n",
       "      <td>Kensington and Chelsea</td>\n",
       "      <td>...</td>\n",
       "      <td>None</td>\n",
       "      <td>No tow/articulation</td>\n",
       "      <td>Did not leave carriageway</td>\n",
       "      <td>0.0</td>\n",
       "      <td>Turning right</td>\n",
       "      <td>1</td>\n",
       "      <td>Car</td>\n",
       "      <td>No</td>\n",
       "      <td>Offside</td>\n",
       "      <td>2014</td>\n",
       "    </tr>\n",
       "    <tr>\n",
       "      <th>4</th>\n",
       "      <td>Slight</td>\n",
       "      <td>None</td>\n",
       "      <td>2014-01-21</td>\n",
       "      <td>Tuesday</td>\n",
       "      <td>1.0</td>\n",
       "      <td>Give way or uncontrolled</td>\n",
       "      <td>T or staggered junction</td>\n",
       "      <td>51.490536</td>\n",
       "      <td>Daylight</td>\n",
       "      <td>Kensington and Chelsea</td>\n",
       "      <td>...</td>\n",
       "      <td>Skidded</td>\n",
       "      <td>No tow/articulation</td>\n",
       "      <td>Did not leave carriageway</td>\n",
       "      <td>0.0</td>\n",
       "      <td>Overtaking moving vehicle - offside</td>\n",
       "      <td>2</td>\n",
       "      <td>Motorcycle 125cc and under</td>\n",
       "      <td>No</td>\n",
       "      <td>Front</td>\n",
       "      <td>2014</td>\n",
       "    </tr>\n",
       "    <tr>\n",
       "      <th>...</th>\n",
       "      <td>...</td>\n",
       "      <td>...</td>\n",
       "      <td>...</td>\n",
       "      <td>...</td>\n",
       "      <td>...</td>\n",
       "      <td>...</td>\n",
       "      <td>...</td>\n",
       "      <td>...</td>\n",
       "      <td>...</td>\n",
       "      <td>...</td>\n",
       "      <td>...</td>\n",
       "      <td>...</td>\n",
       "      <td>...</td>\n",
       "      <td>...</td>\n",
       "      <td>...</td>\n",
       "      <td>...</td>\n",
       "      <td>...</td>\n",
       "      <td>...</td>\n",
       "      <td>...</td>\n",
       "      <td>...</td>\n",
       "      <td>...</td>\n",
       "    </tr>\n",
       "    <tr>\n",
       "      <th>692693</th>\n",
       "      <td>Slight</td>\n",
       "      <td>None</td>\n",
       "      <td>2016-11-01</td>\n",
       "      <td>Tuesday</td>\n",
       "      <td>1.0</td>\n",
       "      <td>Give way or uncontrolled</td>\n",
       "      <td>Crossroads</td>\n",
       "      <td>55.005033</td>\n",
       "      <td>Daylight</td>\n",
       "      <td>Dumfries and Galloway</td>\n",
       "      <td>...</td>\n",
       "      <td>None</td>\n",
       "      <td>No tow/articulation</td>\n",
       "      <td>Did not leave carriageway</td>\n",
       "      <td>0.0</td>\n",
       "      <td>Going ahead other</td>\n",
       "      <td>1</td>\n",
       "      <td>Car</td>\n",
       "      <td>No</td>\n",
       "      <td>Front</td>\n",
       "      <td>2016</td>\n",
       "    </tr>\n",
       "    <tr>\n",
       "      <th>692694</th>\n",
       "      <td>Slight</td>\n",
       "      <td>None</td>\n",
       "      <td>2016-11-01</td>\n",
       "      <td>Tuesday</td>\n",
       "      <td>1.0</td>\n",
       "      <td>Give way or uncontrolled</td>\n",
       "      <td>Crossroads</td>\n",
       "      <td>55.005033</td>\n",
       "      <td>Daylight</td>\n",
       "      <td>Dumfries and Galloway</td>\n",
       "      <td>...</td>\n",
       "      <td>None</td>\n",
       "      <td>No tow/articulation</td>\n",
       "      <td>Offside</td>\n",
       "      <td>0.0</td>\n",
       "      <td>Going ahead other</td>\n",
       "      <td>2</td>\n",
       "      <td>Car</td>\n",
       "      <td>No</td>\n",
       "      <td>Front</td>\n",
       "      <td>2016</td>\n",
       "    </tr>\n",
       "    <tr>\n",
       "      <th>692695</th>\n",
       "      <td>Slight</td>\n",
       "      <td>None</td>\n",
       "      <td>2016-10-27</td>\n",
       "      <td>Thursday</td>\n",
       "      <td>1.0</td>\n",
       "      <td>Data missing or out of range</td>\n",
       "      <td>Not at junction or within 20 metres</td>\n",
       "      <td>55.048803</td>\n",
       "      <td>Darkness - no lighting</td>\n",
       "      <td>Dumfries and Galloway</td>\n",
       "      <td>...</td>\n",
       "      <td>None</td>\n",
       "      <td>No tow/articulation</td>\n",
       "      <td>Offside on to central reservation</td>\n",
       "      <td>0.0</td>\n",
       "      <td>Going ahead other</td>\n",
       "      <td>1</td>\n",
       "      <td>Goods 7.5 tonnes mgw and over</td>\n",
       "      <td>No</td>\n",
       "      <td>Offside</td>\n",
       "      <td>2016</td>\n",
       "    </tr>\n",
       "    <tr>\n",
       "      <th>692696</th>\n",
       "      <td>Slight</td>\n",
       "      <td>None</td>\n",
       "      <td>2016-10-29</td>\n",
       "      <td>Saturday</td>\n",
       "      <td>1.0</td>\n",
       "      <td>Data missing or out of range</td>\n",
       "      <td>Not at junction or within 20 metres</td>\n",
       "      <td>54.989597</td>\n",
       "      <td>Darkness - lights lit</td>\n",
       "      <td>Dumfries and Galloway</td>\n",
       "      <td>...</td>\n",
       "      <td>Skidded</td>\n",
       "      <td>No tow/articulation</td>\n",
       "      <td>Offside</td>\n",
       "      <td>0.0</td>\n",
       "      <td>Going ahead other</td>\n",
       "      <td>1</td>\n",
       "      <td>Car</td>\n",
       "      <td>No</td>\n",
       "      <td>Front</td>\n",
       "      <td>2016</td>\n",
       "    </tr>\n",
       "    <tr>\n",
       "      <th>692697</th>\n",
       "      <td>Slight</td>\n",
       "      <td>None</td>\n",
       "      <td>2016-12-25</td>\n",
       "      <td>Sunday</td>\n",
       "      <td>1.0</td>\n",
       "      <td>Data missing or out of range</td>\n",
       "      <td>Not at junction or within 20 metres</td>\n",
       "      <td>55.310151</td>\n",
       "      <td>Daylight</td>\n",
       "      <td>Dumfries and Galloway</td>\n",
       "      <td>...</td>\n",
       "      <td>Skidded and overturned</td>\n",
       "      <td>No tow/articulation</td>\n",
       "      <td>Nearside</td>\n",
       "      <td>0.0</td>\n",
       "      <td>Going ahead other</td>\n",
       "      <td>1</td>\n",
       "      <td>Car</td>\n",
       "      <td>No</td>\n",
       "      <td>Nearside</td>\n",
       "      <td>2016</td>\n",
       "    </tr>\n",
       "  </tbody>\n",
       "</table>\n",
       "<p>690476 rows × 45 columns</p>\n",
       "</div>"
      ],
      "text/plain": [
       "       Accident_Severity Carriageway_Hazards        Date Day_of_Week  \\\n",
       "0                 Slight                None  2014-01-09    Thursday   \n",
       "1                 Slight                None  2014-01-09    Thursday   \n",
       "2                 Slight                None  2014-01-20      Monday   \n",
       "3                 Slight                None  2014-01-21     Tuesday   \n",
       "4                 Slight                None  2014-01-21     Tuesday   \n",
       "...                  ...                 ...         ...         ...   \n",
       "692693            Slight                None  2016-11-01     Tuesday   \n",
       "692694            Slight                None  2016-11-01     Tuesday   \n",
       "692695            Slight                None  2016-10-27    Thursday   \n",
       "692696            Slight                None  2016-10-29    Saturday   \n",
       "692697            Slight                None  2016-12-25      Sunday   \n",
       "\n",
       "        Did_Police_Officer_Attend_Scene_of_Accident  \\\n",
       "0                                               2.0   \n",
       "1                                               2.0   \n",
       "2                                               2.0   \n",
       "3                                               1.0   \n",
       "4                                               1.0   \n",
       "...                                             ...   \n",
       "692693                                          1.0   \n",
       "692694                                          1.0   \n",
       "692695                                          1.0   \n",
       "692696                                          1.0   \n",
       "692697                                          1.0   \n",
       "\n",
       "                    Junction_Control                      Junction_Detail  \\\n",
       "0       Data missing or out of range  Not at junction or within 20 metres   \n",
       "1       Data missing or out of range  Not at junction or within 20 metres   \n",
       "2           Give way or uncontrolled                            Slip road   \n",
       "3           Give way or uncontrolled              T or staggered junction   \n",
       "4           Give way or uncontrolled              T or staggered junction   \n",
       "...                              ...                                  ...   \n",
       "692693      Give way or uncontrolled                           Crossroads   \n",
       "692694      Give way or uncontrolled                           Crossroads   \n",
       "692695  Data missing or out of range  Not at junction or within 20 metres   \n",
       "692696  Data missing or out of range  Not at junction or within 20 metres   \n",
       "692697  Data missing or out of range  Not at junction or within 20 metres   \n",
       "\n",
       "         Latitude             Light_Conditions Local_Authority_(District)  \\\n",
       "0       51.496345                     Daylight     Kensington and Chelsea   \n",
       "1       51.496345                     Daylight     Kensington and Chelsea   \n",
       "2       51.489523  Darkness - lighting unknown     Kensington and Chelsea   \n",
       "3       51.490536                     Daylight     Kensington and Chelsea   \n",
       "4       51.490536                     Daylight     Kensington and Chelsea   \n",
       "...           ...                          ...                        ...   \n",
       "692693  55.005033                     Daylight      Dumfries and Galloway   \n",
       "692694  55.005033                     Daylight      Dumfries and Galloway   \n",
       "692695  55.048803       Darkness - no lighting      Dumfries and Galloway   \n",
       "692696  54.989597        Darkness - lights lit      Dumfries and Galloway   \n",
       "692697  55.310151                     Daylight      Dumfries and Galloway   \n",
       "\n",
       "        ... Skidding_and_Overturning  Towing_and_Articulation  \\\n",
       "0       ...                     None      No tow/articulation   \n",
       "1       ...                     None      No tow/articulation   \n",
       "2       ...                     None      No tow/articulation   \n",
       "3       ...                     None      No tow/articulation   \n",
       "4       ...                  Skidded      No tow/articulation   \n",
       "...     ...                      ...                      ...   \n",
       "692693  ...                     None      No tow/articulation   \n",
       "692694  ...                     None      No tow/articulation   \n",
       "692695  ...                     None      No tow/articulation   \n",
       "692696  ...                  Skidded      No tow/articulation   \n",
       "692697  ...   Skidded and overturned      No tow/articulation   \n",
       "\n",
       "              Vehicle_Leaving_Carriageway  Vehicle_Location.Restricted_Lane  \\\n",
       "0               Did not leave carriageway                               0.0   \n",
       "1               Did not leave carriageway                               0.0   \n",
       "2               Did not leave carriageway                               0.0   \n",
       "3               Did not leave carriageway                               0.0   \n",
       "4               Did not leave carriageway                               0.0   \n",
       "...                                   ...                               ...   \n",
       "692693          Did not leave carriageway                               0.0   \n",
       "692694                            Offside                               0.0   \n",
       "692695  Offside on to central reservation                               0.0   \n",
       "692696                            Offside                               0.0   \n",
       "692697                           Nearside                               0.0   \n",
       "\n",
       "                          Vehicle_Manoeuvre  Vehicle_Reference  \\\n",
       "0                         Going ahead other                  1   \n",
       "1                     Overtaking - nearside                  2   \n",
       "2                                    Parked                  1   \n",
       "3                             Turning right                  1   \n",
       "4       Overtaking moving vehicle - offside                  2   \n",
       "...                                     ...                ...   \n",
       "692693                    Going ahead other                  1   \n",
       "692694                    Going ahead other                  2   \n",
       "692695                    Going ahead other                  1   \n",
       "692696                    Going ahead other                  1   \n",
       "692697                    Going ahead other                  1   \n",
       "\n",
       "                               Vehicle_Type  Was_Vehicle_Left_Hand_Drive  \\\n",
       "0                     Taxi/Private hire car                           No   \n",
       "1       Van / Goods 3.5 tonnes mgw or under                           No   \n",
       "2                                       Car                           No   \n",
       "3                                       Car                           No   \n",
       "4                Motorcycle 125cc and under                           No   \n",
       "...                                     ...                          ...   \n",
       "692693                                  Car                           No   \n",
       "692694                                  Car                           No   \n",
       "692695        Goods 7.5 tonnes mgw and over                           No   \n",
       "692696                                  Car                           No   \n",
       "692697                                  Car                           No   \n",
       "\n",
       "       X1st_Point_of_Impact Year_y  \n",
       "0                  Nearside   2014  \n",
       "1                     Front   2014  \n",
       "2                   Offside   2014  \n",
       "3                   Offside   2014  \n",
       "4                     Front   2014  \n",
       "...                     ...    ...  \n",
       "692693                Front   2016  \n",
       "692694                Front   2016  \n",
       "692695              Offside   2016  \n",
       "692696                Front   2016  \n",
       "692697             Nearside   2016  \n",
       "\n",
       "[690476 rows x 45 columns]"
      ]
     },
     "execution_count": 14,
     "metadata": {},
     "output_type": "execute_result"
    }
   ],
   "source": [
    "road"
   ]
  },
  {
   "cell_type": "code",
   "execution_count": 15,
   "id": "18ae0e0b",
   "metadata": {},
   "outputs": [
    {
     "data": {
      "text/plain": [
       "array([2014, 2015, 2016], dtype=int64)"
      ]
     },
     "execution_count": 15,
     "metadata": {},
     "output_type": "execute_result"
    }
   ],
   "source": [
    "road['Year_y'].unique()"
   ]
  },
  {
   "cell_type": "code",
   "execution_count": null,
   "id": "06e2da3a",
   "metadata": {},
   "outputs": [],
   "source": []
  },
  {
   "cell_type": "code",
   "execution_count": 16,
   "id": "f57478b4",
   "metadata": {},
   "outputs": [
    {
     "data": {
      "text/plain": [
       "array(['Slight', 'Serious', 'Fatal'], dtype=object)"
      ]
     },
     "execution_count": 16,
     "metadata": {},
     "output_type": "execute_result"
    }
   ],
   "source": [
    "road['Accident_Severity'].unique()"
   ]
  },
  {
   "cell_type": "code",
   "execution_count": 17,
   "id": "b7b4ec1a",
   "metadata": {},
   "outputs": [
    {
     "data": {
      "text/plain": [
       "array([51.496345, 51.489523, 51.490536, ..., 55.048803, 54.989597,\n",
       "       55.310151])"
      ]
     },
     "execution_count": 17,
     "metadata": {},
     "output_type": "execute_result"
    }
   ],
   "source": [
    "road['Latitude'].unique()"
   ]
  },
  {
   "cell_type": "code",
   "execution_count": 18,
   "id": "0ee4d35a",
   "metadata": {},
   "outputs": [
    {
     "data": {
      "text/plain": [
       "array([-0.206443, -0.189713, -0.173827, ..., -3.312631, -3.208249,\n",
       "       -3.272584])"
      ]
     },
     "execution_count": 18,
     "metadata": {},
     "output_type": "execute_result"
    }
   ],
   "source": [
    "road['Longitude'].unique()"
   ]
  },
  {
   "cell_type": "code",
   "execution_count": 19,
   "id": "56111e90",
   "metadata": {},
   "outputs": [
    {
     "data": {
      "text/plain": [
       "array(['46 - 55', 'Data missing or out of range', '26 - 35', '36 - 45',\n",
       "       '21 - 25', '56 - 65', '66 - 75', 'Over 75', '11 - 15', '16 - 20',\n",
       "       '6 - 10', '0 - 5'], dtype=object)"
      ]
     },
     "execution_count": 19,
     "metadata": {},
     "output_type": "execute_result"
    }
   ],
   "source": [
    "road['Age_Band_of_Driver'].unique()"
   ]
  },
  {
   "cell_type": "code",
   "execution_count": 20,
   "id": "96e418e8",
   "metadata": {},
   "outputs": [],
   "source": [
    "road.loc[(road['Age_Band_of_Driver'] == '36 - 45'), 'Age_Band_of_Driver'] = 1\n",
    "road.loc[(road['Age_Band_of_Driver'] == '26 - 35'), 'Age_Band_of_Driver'] = 2\n",
    "road.loc[(road['Age_Band_of_Driver'] == '46 - 55'), 'Age_Band_of_Driver'] = 3\n",
    "road.loc[(road['Age_Band_of_Driver'] == '66 - 75'), 'Age_Band_of_Driver'] = 4\n",
    "road.loc[(road['Age_Band_of_Driver'] == '16 - 20'), 'Age_Band_of_Driver'] = 5\n",
    "road.loc[(road['Age_Band_of_Driver'] == '56 - 65'), 'Age_Band_of_Driver'] = 6\n",
    "road.loc[(road['Age_Band_of_Driver'] == 'Data missing or out of range'), 'Age_Band_of_Driver'] = 7\n",
    "road.loc[(road['Age_Band_of_Driver'] == '21 - 25'), 'Age_Band_of_Driver'] = 8\n",
    "road.loc[(road['Age_Band_of_Driver'] == 'Over 75'), 'Age_Band_of_Driver'] = 9\n",
    "road.loc[(road['Age_Band_of_Driver'] == '11 - 15'), 'Age_Band_of_Driver'] = 10\n",
    "road.loc[(road['Age_Band_of_Driver'] == '6 - 10'), 'Age_Band_of_Driver'] = 11\n",
    "road.loc[(road['Age_Band_of_Driver'] == '0 - 5'), 'Age_Band_of_Driver'] = 12\n"
   ]
  },
  {
   "cell_type": "code",
   "execution_count": 21,
   "id": "5968c298",
   "metadata": {},
   "outputs": [
    {
     "data": {
      "text/plain": [
       "array([3, 7, 2, 1, 8, 6, 4, 9, 10, 5, 11, 12], dtype=object)"
      ]
     },
     "execution_count": 21,
     "metadata": {},
     "output_type": "execute_result"
    }
   ],
   "source": [
    "road['Age_Band_of_Driver'].unique()"
   ]
  },
  {
   "cell_type": "code",
   "execution_count": 22,
   "id": "92f80e50",
   "metadata": {},
   "outputs": [
    {
     "name": "stderr",
     "output_type": "stream",
     "text": [
      "C:\\Users\\SANTHO~1\\AppData\\Local\\Temp/ipykernel_14224/3919810684.py:1: SettingWithCopyWarning: \n",
      "A value is trying to be set on a copy of a slice from a DataFrame.\n",
      "Try using .loc[row_indexer,col_indexer] = value instead\n",
      "\n",
      "See the caveats in the documentation: https://pandas.pydata.org/pandas-docs/stable/user_guide/indexing.html#returning-a-view-versus-a-copy\n",
      "  road['Age_Band_of_Driver'] = pd.to_numeric(road['Age_Band_of_Driver'] )\n"
     ]
    }
   ],
   "source": [
    "road['Age_Band_of_Driver'] = pd.to_numeric(road['Age_Band_of_Driver'] )"
   ]
  },
  {
   "cell_type": "code",
   "execution_count": 23,
   "id": "72d54bba",
   "metadata": {},
   "outputs": [
    {
     "data": {
      "text/plain": [
       "array(['Male', 'Female', 'Not known', 'Data missing or out of range'],\n",
       "      dtype=object)"
      ]
     },
     "execution_count": 23,
     "metadata": {},
     "output_type": "execute_result"
    }
   ],
   "source": [
    "road['Sex_of_Driver'].unique()"
   ]
  },
  {
   "cell_type": "code",
   "execution_count": 24,
   "id": "d7e32cd7",
   "metadata": {},
   "outputs": [],
   "source": [
    "road.loc[(road['Sex_of_Driver'] == 'Male'), 'Sex_of_Driver'] = 1\n",
    "road.loc[(road['Sex_of_Driver'] == 'Female'), 'Sex_of_Driver'] = 2\n",
    "road.loc[(road['Sex_of_Driver'] == 'Not known'), 'Sex_of_Driver'] = 3\n",
    "road.loc[(road['Sex_of_Driver'] == 'Data missing or out of range'), 'Sex_of_Driver'] = 4"
   ]
  },
  {
   "cell_type": "code",
   "execution_count": 25,
   "id": "1b826462",
   "metadata": {},
   "outputs": [
    {
     "data": {
      "text/plain": [
       "array([1, 2, 3, 4], dtype=object)"
      ]
     },
     "execution_count": 25,
     "metadata": {},
     "output_type": "execute_result"
    }
   ],
   "source": [
    "road['Sex_of_Driver'].unique()"
   ]
  },
  {
   "cell_type": "code",
   "execution_count": 26,
   "id": "ef71958d",
   "metadata": {},
   "outputs": [
    {
     "name": "stderr",
     "output_type": "stream",
     "text": [
      "C:\\Users\\SANTHO~1\\AppData\\Local\\Temp/ipykernel_14224/3971699706.py:1: SettingWithCopyWarning: \n",
      "A value is trying to be set on a copy of a slice from a DataFrame.\n",
      "Try using .loc[row_indexer,col_indexer] = value instead\n",
      "\n",
      "See the caveats in the documentation: https://pandas.pydata.org/pandas-docs/stable/user_guide/indexing.html#returning-a-view-versus-a-copy\n",
      "  road['Sex_of_Driver'] = pd.to_numeric(road['Sex_of_Driver'] )\n"
     ]
    }
   ],
   "source": [
    "road['Sex_of_Driver'] = pd.to_numeric(road['Sex_of_Driver'] )"
   ]
  },
  {
   "cell_type": "code",
   "execution_count": 27,
   "id": "a87388cd",
   "metadata": {},
   "outputs": [
    {
     "data": {
      "text/plain": [
       "array(['Taxi/Private hire car', 'Van / Goods 3.5 tonnes mgw or under',\n",
       "       'Car', 'Motorcycle 125cc and under',\n",
       "       'Motorcycle over 125cc and up to 500cc',\n",
       "       'Motorcycle 50cc and under',\n",
       "       'Bus or coach (17 or more pass seats)',\n",
       "       'Goods over 3.5t. and under 7.5t', 'Motorcycle over 500cc',\n",
       "       'Goods 7.5 tonnes mgw and over', 'Other vehicle',\n",
       "       'Minibus (8 - 16 passenger seats)', 'Agricultural vehicle',\n",
       "       'Pedal cycle', 'Goods vehicle - unknown weight',\n",
       "       'Motorcycle - unknown cc', 'Mobility scooter',\n",
       "       'Electric motorcycle', 'Tram', 'Data missing or out of range',\n",
       "       'Ridden horse'], dtype=object)"
      ]
     },
     "execution_count": 27,
     "metadata": {},
     "output_type": "execute_result"
    }
   ],
   "source": [
    "road['Vehicle_Type'].unique()"
   ]
  },
  {
   "cell_type": "code",
   "execution_count": 28,
   "id": "7939bf53",
   "metadata": {},
   "outputs": [],
   "source": [
    "road.loc[(road['Vehicle_Type'] == 'Bus or coach (17 or more pass seats)'), 'Vehicle_Type'] = 1\n",
    "road.loc[(road['Vehicle_Type'] == 'Car'), 'Vehicle_Type'] = 2\n",
    "road.loc[(road['Vehicle_Type'] == 'Motorcycle 125cc and under'), 'Vehicle_Type'] = 3\n",
    "road.loc[(road['Vehicle_Type'] == 'Motorcycle over 500cc'), 'Vehicle_Type'] = 4\n",
    "road.loc[(road['Vehicle_Type'] == 'Motorcycle over 125cc and up to 500cc'), 'Vehicle_Type'] = 5\n",
    "road.loc[(road['Vehicle_Type'] == 'Taxi/Private hire car'), 'Vehicle_Type'] = 6\n",
    "road.loc[(road['Vehicle_Type'] == 'Goods 7.5 tonnes mgw and over'), 'Vehicle_Type'] = 7\n",
    "road.loc[(road['Vehicle_Type'] == 'Van / Goods 3.5 tonnes mgw or under'), 'Vehicle_Type'] = 8\n",
    "road.loc[(road['Vehicle_Type'] == 'Motorcycle 50cc and under'), 'Vehicle_Type'] = 9\n",
    "road.loc[(road['Vehicle_Type'] == 'Goods over 3.5t. and under 7.5t'), 'Vehicle_Type'] = 10\n",
    "road.loc[(road['Vehicle_Type'] == 'Minibus (8 - 16 passenger seats)'), 'Vehicle_Type'] = 11\n",
    "road.loc[(road['Vehicle_Type'] == 'Other vehicle'), 'Vehicle_Type'] = 12\n",
    "road.loc[(road['Vehicle_Type'] == 'Agricultural vehicle'), 'Vehicle_Type'] = 13\n",
    "road.loc[(road['Vehicle_Type'] == 'Pedal cycle'), 'Vehicle_Type'] = 14\n",
    "road.loc[(road['Vehicle_Type'] == 'Tram'), 'Vehicle_Type'] = 15\n",
    "road.loc[(road['Vehicle_Type'] == 'Ridden horse'), 'Vehicle_Type'] = 16\n",
    "road.loc[(road['Vehicle_Type'] == 'Data missing or out of range'), 'Vehicle_Type'] = 17\n",
    "road.loc[(road['Vehicle_Type'] == 'Motorcycle - unknown cc'), 'Vehicle_Type'] = 18\n",
    "road.loc[(road['Vehicle_Type'] == 'Mobility scooter'), 'Vehicle_Type'] = 19\n",
    "road.loc[(road['Vehicle_Type'] == 'Goods vehicle - unknown weight'), 'Vehicle_Type'] = 20\n",
    "road.loc[(road['Vehicle_Type'] == 'Electric motorcycle'), 'Vehicle_Type'] = 21\n",
    "\n"
   ]
  },
  {
   "cell_type": "code",
   "execution_count": 29,
   "id": "068594a2",
   "metadata": {},
   "outputs": [
    {
     "data": {
      "text/plain": [
       "array([6, 8, 2, 3, 5, 9, 1, 10, 4, 7, 12, 11, 13, 14, 20, 18, 19, 21, 15,\n",
       "       17, 16], dtype=object)"
      ]
     },
     "execution_count": 29,
     "metadata": {},
     "output_type": "execute_result"
    }
   ],
   "source": [
    "road['Vehicle_Type'].unique()"
   ]
  },
  {
   "cell_type": "code",
   "execution_count": 30,
   "id": "7894e532",
   "metadata": {},
   "outputs": [
    {
     "name": "stderr",
     "output_type": "stream",
     "text": [
      "C:\\Users\\SANTHO~1\\AppData\\Local\\Temp/ipykernel_14224/3793784222.py:1: SettingWithCopyWarning: \n",
      "A value is trying to be set on a copy of a slice from a DataFrame.\n",
      "Try using .loc[row_indexer,col_indexer] = value instead\n",
      "\n",
      "See the caveats in the documentation: https://pandas.pydata.org/pandas-docs/stable/user_guide/indexing.html#returning-a-view-versus-a-copy\n",
      "  road['Vehicle_Type'] = pd.to_numeric(road['Vehicle_Type'] )\n"
     ]
    }
   ],
   "source": [
    "road['Vehicle_Type'] = pd.to_numeric(road['Vehicle_Type'] )"
   ]
  },
  {
   "cell_type": "code",
   "execution_count": 31,
   "id": "5982ef83",
   "metadata": {},
   "outputs": [
    {
     "data": {
      "text/plain": [
       "array(['Single carriageway', 'One way street', 'Roundabout',\n",
       "       'Dual carriageway', 'Slip road', 'Unknown'], dtype=object)"
      ]
     },
     "execution_count": 31,
     "metadata": {},
     "output_type": "execute_result"
    }
   ],
   "source": [
    "road['Road_Type'].unique()"
   ]
  },
  {
   "cell_type": "code",
   "execution_count": 32,
   "id": "309c2c1c",
   "metadata": {},
   "outputs": [],
   "source": [
    "road.loc[(road['Road_Type'] == 'Dual carriageway'), 'Road_Type'] = 1\n",
    "road.loc[(road['Road_Type'] == 'Single carriageway'), 'Road_Type'] = 2\n",
    "road.loc[(road['Road_Type'] == 'One way street'), 'Road_Type'] = 3\n",
    "road.loc[(road['Road_Type'] == 'Roundabout'), 'Road_Type'] = 4\n",
    "road.loc[(road['Road_Type'] == 'Slip road'), 'Road_Type'] = 5\n",
    "road.loc[(road['Road_Type'] == 'Unknown'), 'Road_Type'] = 6"
   ]
  },
  {
   "cell_type": "code",
   "execution_count": 33,
   "id": "86ff1c0b",
   "metadata": {},
   "outputs": [
    {
     "data": {
      "text/plain": [
       "array([2, 3, 4, 1, 5, 6], dtype=object)"
      ]
     },
     "execution_count": 33,
     "metadata": {},
     "output_type": "execute_result"
    }
   ],
   "source": [
    "road['Road_Type'].unique()"
   ]
  },
  {
   "cell_type": "code",
   "execution_count": 34,
   "id": "4e073bab",
   "metadata": {},
   "outputs": [
    {
     "name": "stderr",
     "output_type": "stream",
     "text": [
      "C:\\Users\\SANTHO~1\\AppData\\Local\\Temp/ipykernel_14224/107317164.py:1: SettingWithCopyWarning: \n",
      "A value is trying to be set on a copy of a slice from a DataFrame.\n",
      "Try using .loc[row_indexer,col_indexer] = value instead\n",
      "\n",
      "See the caveats in the documentation: https://pandas.pydata.org/pandas-docs/stable/user_guide/indexing.html#returning-a-view-versus-a-copy\n",
      "  road['Road_Type'] = pd.to_numeric(road['Road_Type'] )\n"
     ]
    }
   ],
   "source": [
    "road['Road_Type'] = pd.to_numeric(road['Road_Type'] )"
   ]
  },
  {
   "cell_type": "code",
   "execution_count": 35,
   "id": "68c2db73",
   "metadata": {},
   "outputs": [
    {
     "data": {
      "text/plain": [
       "array([30., 40., 20., 50., 70., 60., 10.,  0.])"
      ]
     },
     "execution_count": 35,
     "metadata": {},
     "output_type": "execute_result"
    }
   ],
   "source": [
    "road['Speed_limit'].unique()"
   ]
  },
  {
   "cell_type": "code",
   "execution_count": 36,
   "id": "f35f3b22",
   "metadata": {},
   "outputs": [
    {
     "data": {
      "text/plain": [
       "array(['Data missing or out of range', 'Give way or uncontrolled',\n",
       "       'Auto traffic signal', 'Authorised person', 'Stop sign',\n",
       "       'Not at junction or within 20 metres'], dtype=object)"
      ]
     },
     "execution_count": 36,
     "metadata": {},
     "output_type": "execute_result"
    }
   ],
   "source": [
    "road['Junction_Control'].unique()"
   ]
  },
  {
   "cell_type": "code",
   "execution_count": 37,
   "id": "12b03e23",
   "metadata": {},
   "outputs": [],
   "source": [
    "road.loc[(road['Junction_Control'] == 'Auto traffic signal'), 'Junction_Control'] = 1\n",
    "road.loc[(road['Junction_Control'] == 'Data missing or out of range'), 'Junction_Control'] = 2\n",
    "road.loc[(road['Junction_Control'] == 'Give way or uncontrolled'), 'Junction_Control'] = 3\n",
    "road.loc[(road['Junction_Control'] == 'Stop sign'), 'Junction_Control'] = 4\n",
    "road.loc[(road['Junction_Control'] == 'Authorised person'), 'Junction_Control'] = 5\n",
    "road.loc[(road['Junction_Control'] == 'Not at junction or within 20 metres'), 'Junction_Control'] = 6\n",
    "\n",
    "\n"
   ]
  },
  {
   "cell_type": "code",
   "execution_count": 38,
   "id": "e17521e4",
   "metadata": {},
   "outputs": [
    {
     "data": {
      "text/plain": [
       "array([2, 3, 1, 5, 4, 6], dtype=object)"
      ]
     },
     "execution_count": 38,
     "metadata": {},
     "output_type": "execute_result"
    }
   ],
   "source": [
    "road['Junction_Control'].unique()"
   ]
  },
  {
   "cell_type": "code",
   "execution_count": 39,
   "id": "0dc37d3d",
   "metadata": {},
   "outputs": [
    {
     "name": "stderr",
     "output_type": "stream",
     "text": [
      "C:\\Users\\SANTHO~1\\AppData\\Local\\Temp/ipykernel_14224/63038456.py:1: SettingWithCopyWarning: \n",
      "A value is trying to be set on a copy of a slice from a DataFrame.\n",
      "Try using .loc[row_indexer,col_indexer] = value instead\n",
      "\n",
      "See the caveats in the documentation: https://pandas.pydata.org/pandas-docs/stable/user_guide/indexing.html#returning-a-view-versus-a-copy\n",
      "  road['Junction_Control'] = pd.to_numeric(road['Junction_Control'] )\n"
     ]
    }
   ],
   "source": [
    "road['Junction_Control'] = pd.to_numeric(road['Junction_Control'] )"
   ]
  },
  {
   "cell_type": "code",
   "execution_count": 40,
   "id": "62f757e0",
   "metadata": {},
   "outputs": [
    {
     "data": {
      "text/plain": [
       "array(['Daylight', 'Darkness - lighting unknown', 'Darkness - lights lit',\n",
       "       'Darkness - lights unlit', 'Darkness - no lighting',\n",
       "       'Data missing or out of range'], dtype=object)"
      ]
     },
     "execution_count": 40,
     "metadata": {},
     "output_type": "execute_result"
    }
   ],
   "source": [
    "road['Light_Conditions'].unique()"
   ]
  },
  {
   "cell_type": "code",
   "execution_count": 41,
   "id": "a7aa5635",
   "metadata": {},
   "outputs": [],
   "source": [
    "road.loc[(road['Light_Conditions'] == 'Darkness - lights lit'), 'Light_Conditions'] = 1\n",
    "road.loc[(road['Light_Conditions'] == 'Daylight'), 'Light_Conditions'] = 2\n",
    "road.loc[(road['Light_Conditions'] == 'Darkness - lighting unknown'), 'Light_Conditions'] = 3\n",
    "road.loc[(road['Light_Conditions'] == 'Darkness - lights unlit'), 'Light_Conditions'] = 4\n",
    "road.loc[(road['Light_Conditions'] == 'Darkness - no lighting'), 'Light_Conditions'] = 5\n",
    "road.loc[(road['Light_Conditions'] == 'Data missing or out of range'), 'Light_Conditions'] = 6\n",
    "\n"
   ]
  },
  {
   "cell_type": "code",
   "execution_count": 42,
   "id": "8e618aa9",
   "metadata": {},
   "outputs": [
    {
     "data": {
      "text/plain": [
       "array([2, 3, 1, 4, 5, 6], dtype=object)"
      ]
     },
     "execution_count": 42,
     "metadata": {},
     "output_type": "execute_result"
    }
   ],
   "source": [
    "road['Light_Conditions'].unique()"
   ]
  },
  {
   "cell_type": "code",
   "execution_count": 43,
   "id": "9cb99edc",
   "metadata": {},
   "outputs": [
    {
     "name": "stderr",
     "output_type": "stream",
     "text": [
      "C:\\Users\\SANTHO~1\\AppData\\Local\\Temp/ipykernel_14224/1934714940.py:1: SettingWithCopyWarning: \n",
      "A value is trying to be set on a copy of a slice from a DataFrame.\n",
      "Try using .loc[row_indexer,col_indexer] = value instead\n",
      "\n",
      "See the caveats in the documentation: https://pandas.pydata.org/pandas-docs/stable/user_guide/indexing.html#returning-a-view-versus-a-copy\n",
      "  road['Light_Conditions'] = pd.to_numeric(road['Light_Conditions'] )\n"
     ]
    }
   ],
   "source": [
    "road['Light_Conditions'] = pd.to_numeric(road['Light_Conditions'] )"
   ]
  },
  {
   "cell_type": "code",
   "execution_count": 44,
   "id": "5a8f7286",
   "metadata": {},
   "outputs": [
    {
     "data": {
      "text/plain": [
       "array(['Raining no high winds', 'Fine no high winds', 'Unknown',\n",
       "       'Fine + high winds', 'Other', 'Raining + high winds',\n",
       "       'Snowing no high winds', 'Fog or mist', 'Snowing + high winds',\n",
       "       'Data missing or out of range'], dtype=object)"
      ]
     },
     "execution_count": 44,
     "metadata": {},
     "output_type": "execute_result"
    }
   ],
   "source": [
    "road['Weather_Conditions'].unique()"
   ]
  },
  {
   "cell_type": "code",
   "execution_count": 45,
   "id": "9c1d7b04",
   "metadata": {},
   "outputs": [],
   "source": [
    "road.loc[(road['Weather_Conditions'] == 'Fine no high winds'), 'Weather_Conditions'] = 1\n",
    "road.loc[(road['Weather_Conditions'] == 'Raining no high winds'), 'Weather_Conditions'] = 2\n",
    "road.loc[(road['Weather_Conditions'] == 'Snowing no high winds'), 'Weather_Conditions'] = 3\n",
    "road.loc[(road['Weather_Conditions'] == 'Fine + high winds'), 'Weather_Conditions'] = 4\n",
    "road.loc[(road['Weather_Conditions'] == 'Other'), 'Weather_Conditions'] = 5\n",
    "road.loc[(road['Weather_Conditions'] == 'Unknown'), 'Weather_Conditions'] = 6\n",
    "road.loc[(road['Weather_Conditions'] == 'Raining + high winds'), 'Weather_Conditions'] = 7\n",
    "road.loc[(road['Weather_Conditions'] == 'Fog or mist'), 'Weather_Conditions'] = 8\n",
    "road.loc[(road['Weather_Conditions'] == 'Snowing + high winds'), 'Weather_Conditions'] = 9\n",
    "road.loc[(road['Weather_Conditions'] == 'Data missing or out of range'), 'Weather_Conditions'] = 10"
   ]
  },
  {
   "cell_type": "code",
   "execution_count": 46,
   "id": "46b44535",
   "metadata": {},
   "outputs": [
    {
     "data": {
      "text/plain": [
       "array([2, 1, 6, 4, 5, 7, 3, 8, 9, 10], dtype=object)"
      ]
     },
     "execution_count": 46,
     "metadata": {},
     "output_type": "execute_result"
    }
   ],
   "source": [
    "road['Weather_Conditions'].unique()"
   ]
  },
  {
   "cell_type": "code",
   "execution_count": 47,
   "id": "4d66b40c",
   "metadata": {},
   "outputs": [
    {
     "name": "stderr",
     "output_type": "stream",
     "text": [
      "C:\\Users\\SANTHO~1\\AppData\\Local\\Temp/ipykernel_14224/1428003117.py:1: SettingWithCopyWarning: \n",
      "A value is trying to be set on a copy of a slice from a DataFrame.\n",
      "Try using .loc[row_indexer,col_indexer] = value instead\n",
      "\n",
      "See the caveats in the documentation: https://pandas.pydata.org/pandas-docs/stable/user_guide/indexing.html#returning-a-view-versus-a-copy\n",
      "  road['Weather_Conditions'] = pd.to_numeric(road['Weather_Conditions'] )\n"
     ]
    }
   ],
   "source": [
    "road['Weather_Conditions'] = pd.to_numeric(road['Weather_Conditions'] )"
   ]
  },
  {
   "cell_type": "code",
   "execution_count": 48,
   "id": "28b5c989",
   "metadata": {},
   "outputs": [
    {
     "data": {
      "text/plain": [
       "array(['Wet or damp', 'Dry', 'Flood over 3cm. deep', 'Frost or ice',\n",
       "       'Snow', 'Data missing or out of range'], dtype=object)"
      ]
     },
     "execution_count": 48,
     "metadata": {},
     "output_type": "execute_result"
    }
   ],
   "source": [
    "road['Road_Surface_Conditions'].unique()"
   ]
  },
  {
   "cell_type": "code",
   "execution_count": 49,
   "id": "36edd1ab",
   "metadata": {},
   "outputs": [],
   "source": [
    "road.loc[(road['Road_Surface_Conditions'] == 'Dry'), 'Road_Surface_Conditions'] = 1\n",
    "road.loc[(road['Road_Surface_Conditions'] == 'Wet or damp'), 'Road_Surface_Conditions'] = 2\n",
    "road.loc[(road['Road_Surface_Conditions'] == 'Snow'), 'Road_Surface_Conditions'] = 3\n",
    "road.loc[(road['Road_Surface_Conditions'] == 'Frost or ice'), 'Road_Surface_Conditions'] = 4\n",
    "road.loc[(road['Road_Surface_Conditions'] == 'Flood over 3cm. deep'), 'Road_Surface_Conditions'] = 5\n",
    "road.loc[(road['Road_Surface_Conditions'] == 'Data missing or out of range'), 'Road_Surface_Conditions'] = 6\n"
   ]
  },
  {
   "cell_type": "code",
   "execution_count": 50,
   "id": "89f6534c",
   "metadata": {},
   "outputs": [
    {
     "data": {
      "text/plain": [
       "array([2, 1, 5, 4, 3, 6], dtype=object)"
      ]
     },
     "execution_count": 50,
     "metadata": {},
     "output_type": "execute_result"
    }
   ],
   "source": [
    "road['Road_Surface_Conditions'].unique()"
   ]
  },
  {
   "cell_type": "code",
   "execution_count": 51,
   "id": "c3915b8c",
   "metadata": {},
   "outputs": [
    {
     "name": "stderr",
     "output_type": "stream",
     "text": [
      "C:\\Users\\SANTHO~1\\AppData\\Local\\Temp/ipykernel_14224/2705803279.py:1: SettingWithCopyWarning: \n",
      "A value is trying to be set on a copy of a slice from a DataFrame.\n",
      "Try using .loc[row_indexer,col_indexer] = value instead\n",
      "\n",
      "See the caveats in the documentation: https://pandas.pydata.org/pandas-docs/stable/user_guide/indexing.html#returning-a-view-versus-a-copy\n",
      "  road['Road_Surface_Conditions'] = pd.to_numeric(road['Road_Surface_Conditions'] )\n"
     ]
    }
   ],
   "source": [
    "road['Road_Surface_Conditions'] = pd.to_numeric(road['Road_Surface_Conditions'] )"
   ]
  },
  {
   "cell_type": "code",
   "execution_count": 52,
   "id": "aa4d50d3",
   "metadata": {},
   "outputs": [
    {
     "data": {
      "text/plain": [
       "array(['Urban', 'Rural'], dtype=object)"
      ]
     },
     "execution_count": 52,
     "metadata": {},
     "output_type": "execute_result"
    }
   ],
   "source": [
    "road['Urban_or_Rural_Area'].unique()"
   ]
  },
  {
   "cell_type": "code",
   "execution_count": 53,
   "id": "c6b3e01d",
   "metadata": {},
   "outputs": [],
   "source": [
    "road.loc[(road['Urban_or_Rural_Area'] == 'Urban'), 'Urban_or_Rural_Area'] = 1\n",
    "road.loc[(road['Urban_or_Rural_Area'] == 'Rural'), 'Urban_or_Rural_Area'] = 2\n",
    "road.loc[(road['Urban_or_Rural_Area'] == 'Unallocated'), 'Urban_or_Rural_Area'] = 3"
   ]
  },
  {
   "cell_type": "code",
   "execution_count": 54,
   "id": "ea7b09b9",
   "metadata": {},
   "outputs": [
    {
     "data": {
      "text/plain": [
       "array(['Slight', 'Serious', 'Fatal'], dtype=object)"
      ]
     },
     "execution_count": 54,
     "metadata": {},
     "output_type": "execute_result"
    }
   ],
   "source": [
    "road['Accident_Severity'].unique()"
   ]
  },
  {
   "cell_type": "code",
   "execution_count": 55,
   "id": "c46b7a95",
   "metadata": {},
   "outputs": [],
   "source": [
    "road.loc[(road['Accident_Severity'] == 'Slight'), 'Accident_Severity'] = 1\n",
    "road.loc[(road['Accident_Severity'] == 'Serious'), 'Accident_Severity'] = 2\n",
    "road.loc[(road['Accident_Severity'] == 'Fatal'), 'Accident_Severity'] = 3\n",
    "\n",
    "\n"
   ]
  },
  {
   "cell_type": "code",
   "execution_count": 56,
   "id": "f46e49f3",
   "metadata": {},
   "outputs": [
    {
     "name": "stderr",
     "output_type": "stream",
     "text": [
      "C:\\Users\\SANTHO~1\\AppData\\Local\\Temp/ipykernel_14224/571218044.py:1: SettingWithCopyWarning: \n",
      "A value is trying to be set on a copy of a slice from a DataFrame.\n",
      "Try using .loc[row_indexer,col_indexer] = value instead\n",
      "\n",
      "See the caveats in the documentation: https://pandas.pydata.org/pandas-docs/stable/user_guide/indexing.html#returning-a-view-versus-a-copy\n",
      "  road['Accident_Severity'] = pd.to_numeric(road['Accident_Severity'] )\n"
     ]
    }
   ],
   "source": [
    "road['Accident_Severity'] = pd.to_numeric(road['Accident_Severity'] )"
   ]
  },
  {
   "cell_type": "code",
   "execution_count": 57,
   "id": "8f6e70f5",
   "metadata": {},
   "outputs": [
    {
     "name": "stderr",
     "output_type": "stream",
     "text": [
      "C:\\Users\\SANTHO~1\\AppData\\Local\\Temp/ipykernel_14224/116740860.py:1: SettingWithCopyWarning: \n",
      "A value is trying to be set on a copy of a slice from a DataFrame.\n",
      "Try using .loc[row_indexer,col_indexer] = value instead\n",
      "\n",
      "See the caveats in the documentation: https://pandas.pydata.org/pandas-docs/stable/user_guide/indexing.html#returning-a-view-versus-a-copy\n",
      "  road['Urban_or_Rural_Area'] = pd.to_numeric(road['Urban_or_Rural_Area'] )\n"
     ]
    }
   ],
   "source": [
    "road['Urban_or_Rural_Area'] = pd.to_numeric(road['Urban_or_Rural_Area'] )"
   ]
  },
  {
   "cell_type": "code",
   "execution_count": 58,
   "id": "d5bf3d61",
   "metadata": {},
   "outputs": [],
   "source": [
    "X =road[[\"Latitude\",\"Longitude\",\"Age_Band_of_Driver\",\"Sex_of_Driver\",\"Vehicle_Type\",\"Road_Type\",\"Speed_limit\",\"Junction_Control\",\"Light_Conditions\",\"Weather_Conditions\",\"Road_Surface_Conditions\",\"Urban_or_Rural_Area\"]]"
   ]
  },
  {
   "cell_type": "code",
   "execution_count": 59,
   "id": "24b90ebc",
   "metadata": {},
   "outputs": [
    {
     "name": "stdout",
     "output_type": "stream",
     "text": [
      "<class 'pandas.core.frame.DataFrame'>\n",
      "Int64Index: 690476 entries, 0 to 692697\n",
      "Data columns (total 12 columns):\n",
      " #   Column                   Non-Null Count   Dtype  \n",
      "---  ------                   --------------   -----  \n",
      " 0   Latitude                 690476 non-null  float64\n",
      " 1   Longitude                690476 non-null  float64\n",
      " 2   Age_Band_of_Driver       690476 non-null  int64  \n",
      " 3   Sex_of_Driver            690476 non-null  int64  \n",
      " 4   Vehicle_Type             690476 non-null  int64  \n",
      " 5   Road_Type                690476 non-null  int64  \n",
      " 6   Speed_limit              690476 non-null  float64\n",
      " 7   Junction_Control         690476 non-null  int64  \n",
      " 8   Light_Conditions         690476 non-null  int64  \n",
      " 9   Weather_Conditions       690476 non-null  int64  \n",
      " 10  Road_Surface_Conditions  690476 non-null  int64  \n",
      " 11  Urban_or_Rural_Area      690476 non-null  int64  \n",
      "dtypes: float64(3), int64(9)\n",
      "memory usage: 68.5 MB\n"
     ]
    }
   ],
   "source": [
    "X.info()"
   ]
  },
  {
   "cell_type": "code",
   "execution_count": 60,
   "id": "47a173b8",
   "metadata": {},
   "outputs": [],
   "source": [
    "y = road['Accident_Severity']"
   ]
  },
  {
   "cell_type": "code",
   "execution_count": 61,
   "id": "821f5a6b",
   "metadata": {},
   "outputs": [],
   "source": [
    "from collections import Counter"
   ]
  },
  {
   "cell_type": "code",
   "execution_count": 62,
   "id": "643f80fa",
   "metadata": {},
   "outputs": [
    {
     "name": "stdout",
     "output_type": "stream",
     "text": [
      "Classes and number of values in trainset after SMOTE: Counter({1: 587761, 2: 94651, 3: 8064})\n"
     ]
    }
   ],
   "source": [
    "print('Classes and number of values in trainset after SMOTE:',Counter(y))"
   ]
  },
  {
   "cell_type": "code",
   "execution_count": 63,
   "id": "283d5183",
   "metadata": {},
   "outputs": [],
   "source": [
    "from imblearn.over_sampling import SMOTE\n",
    "oversample = SMOTE(k_neighbors=2)"
   ]
  },
  {
   "cell_type": "code",
   "execution_count": 64,
   "id": "072c3189",
   "metadata": {},
   "outputs": [
    {
     "name": "stdout",
     "output_type": "stream",
     "text": [
      "Classes and number of values in trainset after SMOTE: Counter({1: 587761, 2: 587761, 3: 587761})\n"
     ]
    }
   ],
   "source": [
    "X,y = oversample.fit_resample(X,y)\n",
    "print('Classes and number of values in trainset after SMOTE:',Counter(y))"
   ]
  },
  {
   "cell_type": "code",
   "execution_count": 65,
   "id": "182f7cf5",
   "metadata": {},
   "outputs": [
    {
     "name": "stdout",
     "output_type": "stream",
     "text": [
      "(1234298, 12)\n",
      "(528985, 12)\n"
     ]
    }
   ],
   "source": [
    "from sklearn.model_selection import train_test_split\n",
    "X_train, X_test, y_train, y_test = train_test_split(X, y, test_size=0.3, random_state=250)\n",
    "print(X_train.shape)\n",
    "print(X_test.shape)"
   ]
  },
  {
   "cell_type": "code",
   "execution_count": 66,
   "id": "11067fa8",
   "metadata": {},
   "outputs": [],
   "source": [
    "from sklearn.ensemble import RandomForestClassifier\n",
    "\n",
    "\n",
    "\n",
    "# instantiate the classifier \n",
    "\n",
    "rfc = RandomForestClassifier(random_state=200)"
   ]
  },
  {
   "cell_type": "code",
   "execution_count": 67,
   "id": "083f6ad6",
   "metadata": {},
   "outputs": [
    {
     "data": {
      "text/html": [
       "<style>#sk-container-id-1 {color: black;background-color: white;}#sk-container-id-1 pre{padding: 0;}#sk-container-id-1 div.sk-toggleable {background-color: white;}#sk-container-id-1 label.sk-toggleable__label {cursor: pointer;display: block;width: 100%;margin-bottom: 0;padding: 0.3em;box-sizing: border-box;text-align: center;}#sk-container-id-1 label.sk-toggleable__label-arrow:before {content: \"▸\";float: left;margin-right: 0.25em;color: #696969;}#sk-container-id-1 label.sk-toggleable__label-arrow:hover:before {color: black;}#sk-container-id-1 div.sk-estimator:hover label.sk-toggleable__label-arrow:before {color: black;}#sk-container-id-1 div.sk-toggleable__content {max-height: 0;max-width: 0;overflow: hidden;text-align: left;background-color: #f0f8ff;}#sk-container-id-1 div.sk-toggleable__content pre {margin: 0.2em;color: black;border-radius: 0.25em;background-color: #f0f8ff;}#sk-container-id-1 input.sk-toggleable__control:checked~div.sk-toggleable__content {max-height: 200px;max-width: 100%;overflow: auto;}#sk-container-id-1 input.sk-toggleable__control:checked~label.sk-toggleable__label-arrow:before {content: \"▾\";}#sk-container-id-1 div.sk-estimator input.sk-toggleable__control:checked~label.sk-toggleable__label {background-color: #d4ebff;}#sk-container-id-1 div.sk-label input.sk-toggleable__control:checked~label.sk-toggleable__label {background-color: #d4ebff;}#sk-container-id-1 input.sk-hidden--visually {border: 0;clip: rect(1px 1px 1px 1px);clip: rect(1px, 1px, 1px, 1px);height: 1px;margin: -1px;overflow: hidden;padding: 0;position: absolute;width: 1px;}#sk-container-id-1 div.sk-estimator {font-family: monospace;background-color: #f0f8ff;border: 1px dotted black;border-radius: 0.25em;box-sizing: border-box;margin-bottom: 0.5em;}#sk-container-id-1 div.sk-estimator:hover {background-color: #d4ebff;}#sk-container-id-1 div.sk-parallel-item::after {content: \"\";width: 100%;border-bottom: 1px solid gray;flex-grow: 1;}#sk-container-id-1 div.sk-label:hover label.sk-toggleable__label {background-color: #d4ebff;}#sk-container-id-1 div.sk-serial::before {content: \"\";position: absolute;border-left: 1px solid gray;box-sizing: border-box;top: 0;bottom: 0;left: 50%;z-index: 0;}#sk-container-id-1 div.sk-serial {display: flex;flex-direction: column;align-items: center;background-color: white;padding-right: 0.2em;padding-left: 0.2em;position: relative;}#sk-container-id-1 div.sk-item {position: relative;z-index: 1;}#sk-container-id-1 div.sk-parallel {display: flex;align-items: stretch;justify-content: center;background-color: white;position: relative;}#sk-container-id-1 div.sk-item::before, #sk-container-id-1 div.sk-parallel-item::before {content: \"\";position: absolute;border-left: 1px solid gray;box-sizing: border-box;top: 0;bottom: 0;left: 50%;z-index: -1;}#sk-container-id-1 div.sk-parallel-item {display: flex;flex-direction: column;z-index: 1;position: relative;background-color: white;}#sk-container-id-1 div.sk-parallel-item:first-child::after {align-self: flex-end;width: 50%;}#sk-container-id-1 div.sk-parallel-item:last-child::after {align-self: flex-start;width: 50%;}#sk-container-id-1 div.sk-parallel-item:only-child::after {width: 0;}#sk-container-id-1 div.sk-dashed-wrapped {border: 1px dashed gray;margin: 0 0.4em 0.5em 0.4em;box-sizing: border-box;padding-bottom: 0.4em;background-color: white;}#sk-container-id-1 div.sk-label label {font-family: monospace;font-weight: bold;display: inline-block;line-height: 1.2em;}#sk-container-id-1 div.sk-label-container {text-align: center;}#sk-container-id-1 div.sk-container {/* jupyter's `normalize.less` sets `[hidden] { display: none; }` but bootstrap.min.css set `[hidden] { display: none !important; }` so we also need the `!important` here to be able to override the default hidden behavior on the sphinx rendered scikit-learn.org. See: https://github.com/scikit-learn/scikit-learn/issues/21755 */display: inline-block !important;position: relative;}#sk-container-id-1 div.sk-text-repr-fallback {display: none;}</style><div id=\"sk-container-id-1\" class=\"sk-top-container\"><div class=\"sk-text-repr-fallback\"><pre>RandomForestClassifier(random_state=200)</pre><b>In a Jupyter environment, please rerun this cell to show the HTML representation or trust the notebook. <br />On GitHub, the HTML representation is unable to render, please try loading this page with nbviewer.org.</b></div><div class=\"sk-container\" hidden><div class=\"sk-item\"><div class=\"sk-estimator sk-toggleable\"><input class=\"sk-toggleable__control sk-hidden--visually\" id=\"sk-estimator-id-1\" type=\"checkbox\" checked><label for=\"sk-estimator-id-1\" class=\"sk-toggleable__label sk-toggleable__label-arrow\">RandomForestClassifier</label><div class=\"sk-toggleable__content\"><pre>RandomForestClassifier(random_state=200)</pre></div></div></div></div></div>"
      ],
      "text/plain": [
       "RandomForestClassifier(random_state=200)"
      ]
     },
     "execution_count": 67,
     "metadata": {},
     "output_type": "execute_result"
    }
   ],
   "source": [
    "rfc.fit(X_train,y_train)"
   ]
  },
  {
   "cell_type": "code",
   "execution_count": 68,
   "id": "27f2958f",
   "metadata": {},
   "outputs": [
    {
     "name": "stdout",
     "output_type": "stream",
     "text": [
      "0.9999611114981958\n"
     ]
    }
   ],
   "source": [
    "print(rfc.score(X_train,y_train))"
   ]
  },
  {
   "cell_type": "code",
   "execution_count": 69,
   "id": "ccc9675c",
   "metadata": {},
   "outputs": [
    {
     "data": {
      "text/plain": [
       "0.8811213928561301"
      ]
     },
     "execution_count": 69,
     "metadata": {},
     "output_type": "execute_result"
    }
   ],
   "source": [
    "from sklearn.metrics import accuracy_score\n",
    "y_pred = rfc.predict(X_test )\n",
    "accuracy_score(y_pred,y_test) "
   ]
  },
  {
   "cell_type": "code",
   "execution_count": 70,
   "id": "fede9242",
   "metadata": {},
   "outputs": [],
   "source": [
    "import sklearn.metrics"
   ]
  },
  {
   "cell_type": "code",
   "execution_count": 71,
   "id": "1b2cdf79",
   "metadata": {},
   "outputs": [
    {
     "name": "stdout",
     "output_type": "stream",
     "text": [
      "              precision    recall  f1-score   support\n",
      "\n",
      "           1       0.85      0.81      0.83    176086\n",
      "           2       0.84      0.85      0.84    176401\n",
      "           3       0.96      0.98      0.97    176498\n",
      "\n",
      "    accuracy                           0.88    528985\n",
      "   macro avg       0.88      0.88      0.88    528985\n",
      "weighted avg       0.88      0.88      0.88    528985\n",
      "\n"
     ]
    }
   ],
   "source": [
    "print(sklearn.metrics.classification_report(y_test, y_pred))"
   ]
  },
  {
   "cell_type": "code",
   "execution_count": 72,
   "id": "30100a6e",
   "metadata": {},
   "outputs": [
    {
     "data": {
      "text/plain": [
       "array([[142644,  28448,   4994],\n",
       "       [ 23496, 149872,   3033],\n",
       "       [  1787,   1127, 173584]], dtype=int64)"
      ]
     },
     "execution_count": 72,
     "metadata": {},
     "output_type": "execute_result"
    }
   ],
   "source": [
    "y_pred = rfc.predict(X_test )\n",
    "y_true=y_test\n",
    "\n",
    "\n",
    "from sklearn.metrics import confusion_matrix\n",
    "cm=confusion_matrix(y_true,y_pred)\n",
    "cm"
   ]
  },
  {
   "cell_type": "code",
   "execution_count": 73,
   "id": "83149978",
   "metadata": {},
   "outputs": [
    {
     "data": {
      "image/png": "[encoded data removed]",
      "text/plain": [
       "<Figure size 360x360 with 2 Axes>"
      ]
     },
     "metadata": {
      "needs_background": "light"
     },
     "output_type": "display_data"
    }
   ],
   "source": [
    "import seaborn as sns\n",
    "import matplotlib.pyplot as plt\n",
    "\n",
    "f, ax=plt.subplots(figsize=(5,5))\n",
    "sns.heatmap(cm,annot=True,linewidths=0.5,linecolor=\"red\",fmt=\".0f\",ax=ax)\n",
    "plt.xlabel(\"y_pred\")\n",
    "plt.ylabel(\"y_true\")\n",
    "plt.show()"
   ]
  },
  {
   "cell_type": "code",
   "execution_count": 74,
   "id": "03c8e618",
   "metadata": {},
   "outputs": [],
   "source": [
    "#pip install --user memory_profiler"
   ]
  },
  {
   "cell_type": "code",
   "execution_count": 75,
   "id": "19a360e6",
   "metadata": {},
   "outputs": [],
   "source": [
    "import pickle\n",
    "\n",
    "pickle.dump(rfc,open('road.pkl','wb'))\n",
    "road = pickle.load(open('road.pkl','rb'))"
   ]
  },
  {
   "cell_type": "code",
   "execution_count": null,
   "id": "e2c7556a",
   "metadata": {},
   "outputs": [],
   "source": []
  }
 ],
 "metadata": {
  "kernelspec": {
   "display_name": "Python 3 (ipykernel)",
   "language": "python",
   "name": "python3"
  },
  "language_info": {
   "codemirror_mode": {
    "name": "ipython",
    "version": 3
   },
   "file_extension": ".py",
   "mimetype": "text/x-python",
   "name": "python",
   "nbconvert_exporter": "python",
   "pygments_lexer": "ipython3",
   "version": "3.9.7"
  }
 },
 "nbformat": 4,
 "nbformat_minor": 5
}
